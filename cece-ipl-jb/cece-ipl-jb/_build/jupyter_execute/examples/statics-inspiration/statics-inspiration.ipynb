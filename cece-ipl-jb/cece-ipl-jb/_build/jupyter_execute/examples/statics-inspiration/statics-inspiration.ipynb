{
 "cells": [
  {
   "cell_type": "markdown",
   "metadata": {},
   "source": [
    "# CE 2301 Statics - Inspiration"
   ]
  },
  {
   "cell_type": "markdown",
   "metadata": {},
   "source": [
    "## Nature Inspried Design, Computational Thinking, and Socio-Technological Aspects of Engineering and Applications in Statics\n",
    "\n",
    "A downstream application of ENGR-1320; ENGR 1330; ENGR 23__\n",
    "\n",
    "Contributed by Ting Lin \n",
    "\n",
    "---"
   ]
  },
  {
   "cell_type": "markdown",
   "metadata": {},
   "source": [
    ":::{note}\n",
    "**Prerequesites (for this example)\n",
    "\n",
    "**Problem Modality**\n",
    "\n",
    "**Special Instructions**\n",
    ">- Group exercise\n",
    ":::"
   ]
  },
  {
   "cell_type": "markdown",
   "metadata": {},
   "source": [
    ":::{note}\n",
    "This is in-progress, mostly just graphics , problem examples to follow\n",
    ":::\n",
    "\n",
    "## Background\n",
    "\n",
    "Nature (Biologically) inspired engineering design uses analogs to natural (biological) systems to develop solutions for engineering problems and can be beneficial for developing sustainable solutions to engineering problems. The innate complexity of natural systems can inspire engineers attempting to create designs involving higher levels of complexity. Several bio-inspired designs have been used in solving problems, such as the imitation of the design of pinecones to design body heat regulating clothes and the design of micro-robots that can walk on water mimicking the basilisk lizard. \n",
    "\n",
    "Consider the image below .....\n",
    "\n",
    "![](art-museum.png)\n",
    "\n",
    "The mundane world of Force is  ...\n",
    "\n",
    "![](art-and-engineering.png)\n",
    "\n",
    "When we understand Force and art maybe change from \n",
    "\n",
    "![](water-tower.png)\n",
    "\n",
    "Ugly water tower, but functional.\n",
    "\n",
    "\n",
    "\n",
    "![](research-today.png)\n",
    "\n",
    "\n",
    "## Instructions: \n",
    "\n"
   ]
  },
  {
   "cell_type": "markdown",
   "metadata": {},
   "source": [
    "\n",
    "\n",
    "## Problem Statement\n",
    "\n",
    "1. Explore using the internet, youtube, books (there is a huge building full of books on campus!) ...\n"
   ]
  },
  {
   "cell_type": "markdown",
   "metadata": {},
   "source": [
    "## Deliverables:\n",
    "- "
   ]
  },
  {
   "cell_type": "markdown",
   "metadata": {},
   "source": [
    ":::{note}\n",
    "A \n",
    ":::"
   ]
  },
  {
   "cell_type": "code",
   "execution_count": null,
   "metadata": {},
   "outputs": [],
   "source": []
  }
 ],
 "metadata": {
  "kernelspec": {
   "display_name": "Python 3",
   "language": "python",
   "name": "python3"
  },
  "language_info": {
   "codemirror_mode": {
    "name": "ipython",
    "version": 3
   },
   "file_extension": ".py",
   "mimetype": "text/x-python",
   "name": "python",
   "nbconvert_exporter": "python",
   "pygments_lexer": "ipython3",
   "version": "3.8.10"
  }
 },
 "nbformat": 4,
 "nbformat_minor": 5
}