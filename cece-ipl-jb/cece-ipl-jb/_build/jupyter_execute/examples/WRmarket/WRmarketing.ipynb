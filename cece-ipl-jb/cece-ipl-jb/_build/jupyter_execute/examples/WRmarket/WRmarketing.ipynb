{
 "cells": [
  {
   "cell_type": "markdown",
   "metadata": {},
   "source": [
    "# Water Resources Engineering in WCOE at Texas Tech University\n",
    "\n",
    "A draft script for marketing at TTU"
   ]
  },
  {
   "cell_type": "markdown",
   "metadata": {},
   "source": [
    "Start with some cool picture montage with water, engineering, and people\n",
    "\n",
    "![Opening Shot: Aerial view of a picturesque river and landscapes with soothing music](LakePillsbury.png)\n",
    "\n",
    "**Voiceover: \"Welcome to the Whitacre College of Engineering, where passion meets purpose, and innovation flows as freely as water.\"**"
   ]
  },
  {
   "cell_type": "markdown",
   "metadata": {},
   "source": [
    "<hr>\n",
    "\n",
    "Then montage of some old dude using Apple iChalk to communicate, and youngsters doing actual work\n",
    "\n",
    "![Transition to scenes of students in labs, working on projects, and interacting with professors](professor.png)\n",
    "\n",
    "**Voiceover: \"Are you ready to make a splash in the world of Water Resources Engineering? At the Whitacre College of Engineering, we invite you to dive into our graduate research program and unlock the door to a world of endless possibilities.\"**\n"
   ]
  },
  {
   "cell_type": "markdown",
   "metadata": {},
   "source": [
    "<!--[Cut to shots of cutting-edge water research facilities]-->\n",
    "\n",
    "**Voiceover: \"Our program is designed for those who are not just seeking a degree but are driven by a desire to solve the pressing challenges our world faces in managing water resources.\"**\n",
    "\n",
    "<hr>"
   ]
  },
  {
   "cell_type": "markdown",
   "metadata": {},
   "source": [
    "Montage of faculty sitting in some boring meeting - should probably use TTU faculty, but the idea is to show us as happy engaged geniuses \n",
    "\n",
    "![Shift to shots of faculty members discussing ongoing research](faculty-talking.png)\n",
    "\n",
    "**Voiceover: \"Our distinguished faculty members are at the forefront of water research. From hydrology to water quality management, our experts are pushing the boundaries of knowledge and inspiring the next generation of water engineers.\"**"
   ]
  },
  {
   "cell_type": "markdown",
   "metadata": {},
   "source": [
    "Then on to actual research - here are some pretty high level topics; our current faculty have fingers in each *which is kind of cool*!\n",
    "\n",
    "## Research Themes (with links to faculty and/or products):\n",
    "\n",
    "- **Climate Change Resilience in Water Management**:\n",
    "  - Investigate the impact of climate change on water availability, precipitation patterns, and extreme weather events. [Texas Skew Update (includes recent large-magnitude events)](https://dataverse.tdl.org/dataset.xhtml?persistentId=doi:10.18738/T8/SVLCOQ)\n",
    "  - Develop innovative strategies for adapting water infrastructure to changing climate conditions.\n",
    "  - Explore sustainable water management practices that can enhance resilience to climate-related challenges.\n",
    "\n",
    "- **Integrated Water Resource Management**:\n",
    "  - Research methods for optimizing the use of surface water and groundwater resources. [Inland Desalination Technologies](https://www.depts.ttu.edu/ceweb/faculty/shane_walker/index.php); [Groundwater Modeling](http://54.243.252.9/ce-4363-webroot/ce4363notes/_build/html/lessons/groundwatermodels/15gwmodels-examples.html)\n",
    "  - Develop integrated models for watershed management that consider the interconnectedness of various water sources. [Stormwater Modeling (Watershed Scale)](http://freeswmm.ddns.net/freeswmm-webroot/swmmbyexample/_build/html/intro.html)\n",
    "  - Explore policies and governance structures that promote sustainable and equitable water allocation. [Natural Systems](https://www.depts.ttu.edu/ceweb/faculty/Clifford_B._Fedler/index.php) \n",
    "\n",
    "- **Water Quality and Contaminant Remediation**:\n",
    "  - Study the sources and transport mechanisms of water pollutants, including emerging contaminants. [Fate and Transport](https://www.depts.ttu.edu/ceweb/faculty/Danny_Reible/index.php)\n",
    "  - Develop advanced technologies for water treatment and remediation. [Treatment&Emerging Contaminants](https://www.depts.ttu.edu/ceweb/faculty/jennifer_guelfo/index.php)\n",
    "  - Investigate the impact of urbanization, industrial activities, and agricultural practices on water quality. [Natural Systems](https://www.depts.ttu.edu/ceweb/faculty/Clifford_B._Fedler/index.php)\n",
    "\n",
    "- **Smart Technologies for Water Monitoring and Management**:\n",
    "  - Explore the use of sensors, remote sensing, and data analytics for real-time water quality and quantity monitoring. [Fixture-Level Monitoring](http://theodore-odroid.ttu.edu/129.118.101.130/)\n",
    "  - Develop smart water infrastructure that can respond dynamically to changing conditions. [HUMS Demonstrator](https://www.depts.ttu.edu/hums/)\n",
    "  - Investigate the potential of artificial intelligence and machine learning in optimizing water distribution and treatment systems. [Machine Learning](http://54.243.252.9/ce-5319-webroot/ce5319jb/_build/html/intro.html)\n",
    "\n",
    "- **Sustainable One Water Planning**:\n",
    "  - Examine the challenges of water supply and demand in rapidly growing urban areas. [Network Modeling](http://freeswmm.ddns.net/ects-epanet/ects-epanet-notes/_build/html/intro.html)\n",
    "  - Research green infrastructure solutions for stormwater management and urban flooding. [Green Infrastructure](http://54.243.252.9/ce-3372-webroot/1-Lessons/Lesson24/PowerPointInLecture/CE3372-Lesson24.pdf)\n",
    "  - Explore the integration of water-sensitive urban design principles to create resilient and sustainable urban water systems. [Green Infrastructure Modeling (Neighborhood Scale)]()\n",
    "\n",
    "These research themes encompass a range of emerging concerns in water resources engineering, from the impacts of climate change to the development of smart technologies for efficient water management. Researchers in these areas contribute to addressing the evolving challenges in water resources and ensuring a sustainable and resilient water future.  The selected links above are to provide a sample of our [faculty's](https://www.depts.ttu.edu/waterresources/faculty/index.php) skills and research products."
   ]
  },
  {
   "cell_type": "markdown",
   "metadata": {},
   "source": [
    "**Voiceover: \"At Texas Tech University, we believe in the power of collaboration. Our partnerships with industry leaders provide our students with unique opportunities for internships and real-world projects, ensuring they graduate with the skills and connections needed to make a difference.\"**\n",
    "\n",
    "<hr>"
   ]
  },
  {
   "cell_type": "markdown",
   "metadata": {},
   "source": [
    "A short pitch to illustrate courses we offer, but not too detailed, mostly that we have a set of core courses to provide future employers with an expectation of some current marketable skills, and then speciality courses.\n",
    "\n",
    "## Program features and curriculum\n",
    "\n",
    "**Voiceover: \"Our comprehensive curriculum covers a spectrum of topics, from advanced hydrodynamics to sustainable water resource development. You'll have the chance to tailor your studies to your interests, ensuring you graduate with the expertise needed to tackle the complexities of water engineering.\"**\n",
    "\n",
    "Our courses for a [Master's Degree](https://www.depts.ttu.edu/ceweb/grad/documents/HANDBOOK_FOR_GRADUATE_STUDENT-20221118.pdf) are comprised of core courses to prepare all our graduates in industry relevant skills, and electives which are individually selected based on interest and professor availability.\n",
    "\n",
    "## Core Courses\n",
    "1. CE 5360 Open Channel Hydraulics \n",
    "2. CE 5361 Surface Water Hydrology \n",
    "3. CE 5363 Groundwater Hydrology \n",
    "4. CE 5366 Water Resources Management \n",
    "5. Geographic Information Systems course (approved by advisor)\n",
    "\n",
    "## Engineering Electives\n",
    "1. CE 5313 Probabilistic Methods of Civil Engineering\n",
    "2. CE 5319 Machine Learning for Civil Engineers\n",
    "3. CE 5349 Performance-Based Engineering\n",
    "4. CE 5362 Surface Water Modeling \n",
    "5. CE 5364 Groundwater Transport Phenomena \n",
    "6. CE 5368 Surface Water Quality Modeling \n",
    "7. CE 5391 Advanced Water Treatment \n",
    "\n",
    "** Other environmental, civil, or other engineering graduate course approved by graduate advisor\n",
    "\n",
    "The [Doctorate Degree](https://www.depts.ttu.edu/ceweb/grad/documents/HANDBOOK_FOR_GRADUATE_STUDENT-20221118.pdf) has no specific course list, but equivalency in the core courses above are expected plus a coherent specialization in support of a research theme. \n",
    "\n",
    "<hr>"
   ]
  },
  {
   "cell_type": "markdown",
   "metadata": {},
   "source": [
    "![Closing scene: Students celebrating graduation](graduation.png)\n",
    "\n",
    "**Voiceover: \"Join us at Texas Tech University, where your journey in Water Resources Engineering begins. Together, let's create waves of change and shape a sustainable future.\"**"
   ]
  },
  {
   "cell_type": "markdown",
   "metadata": {},
   "source": [
    "![Closing shot: University logo and contact information](105023.png)\n",
    "\n",
    "**Voiceover: \"Apply now and be part of a community that's making a difference. [Texas Tech University](https://www.ttu.edu/), where innovation flows, and your future takes shape.\"**\n",
    "\n"
   ]
  },
  {
   "cell_type": "code",
   "execution_count": null,
   "metadata": {},
   "outputs": [],
   "source": []
  }
 ],
 "metadata": {
  "kernelspec": {
   "display_name": "Python 3",
   "language": "python",
   "name": "python3"
  },
  "language_info": {
   "codemirror_mode": {
    "name": "ipython",
    "version": 3
   },
   "file_extension": ".py",
   "mimetype": "text/x-python",
   "name": "python",
   "nbconvert_exporter": "python",
   "pygments_lexer": "ipython3",
   "version": "3.8.10"
  }
 },
 "nbformat": 4,
 "nbformat_minor": 4
}