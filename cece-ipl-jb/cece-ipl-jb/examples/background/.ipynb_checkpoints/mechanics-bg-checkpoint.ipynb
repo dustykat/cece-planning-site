{
 "cells": [
  {
   "cell_type": "markdown",
   "metadata": {},
   "source": [
    "# Computational Thinking in Engineering Mechanics\n",
    "\n",
    "This document examines how computational thinking fits into engineering mechanics courses at TTU in particular:\n",
    "\n",
    ":::{note}\n",
    "This page and similar are one faculty member's professional interpretation of the task to integrate, or downstream common year 1 items into the CECE curriculum.  Specifically, in this case, Computational Thinking.  There are similar treatises for the other two common topics; Nature Inspired Design, and Socio-Technological Aspects of Engineering.\n",
    ":::\n",
    "\n",
    "## Background\n",
    "Jeannette Wing, 2006 [http://www.cs.cmu.edu/~15110-s13/Wing06-ct.pdf](http://www.cs.cmu.edu/~15110-s13/Wing06-ct.pdf) coined the term “computational thinking” (CT) to articulate a vision that everyone, not just those who major in computer science, can benefit from thinking like a computer scientist, but afterwards gave the following definition of CT:\n",
    "\n",
    ">*Computational Thinking is the thought processes involved in formulating problems and their solutions so that the solutions are represented in a form that can be effectively carried out by an information-processing agent* \n",
    "\n",
    "The ongoing interpretation of that original vision is that computational thinking is a problem-solving process that includes the following characteristics (Varela and others, 2019):\n",
    "\n",
    ":::{note}\n",
    "These characteristics are essentially uncontested, Dogma if you will.\n",
    ":::\n",
    "\n",
    "- Formulating problems in a way that it is **possible** to use a computer and **other tools** in their resolution.\n",
    "- Organizing data logically and analyzing them.\n",
    "- Representing data through abstractions.\n",
    "- Automating solutions.\n",
    "- Identifying, analyzing and implementing possible solutions in order to obtain the most effective combination.\n",
    "- Generalizing and transferring this process to a wide variety of solutions.\n",
    "\n",
    "The remainder of this document examines each item in depth.\n",
    "\n",
    "### Problem Formulation \n",
    "\n",
    "With the above concepts in play CT in Mechanics would implement the first item unchanged from the past as to how statics problems are formulated. **Past problem formulation approaches are valid, effective, and fit the CT paradigm - no modification necessary**. There will be some value to selecting some problems with a computer solution in mind, but nothing special is needed.\n",
    "\n",
    "### Data Organization\n",
    "\n",
    "The second concept of CT in Mechanics refers to data organization.  The past methods of listing *known* values (and their sources such as table look-up) and *unknown* or sought values is still valid and effective.  A listing of governing principls to be applied $F=m \\cdot a$ and such will continue to suffice to satisfy the task\n",
    "*Organizing data logically and analyzing them.*  The adverb or adjective (not sure of author's intent) \"logically\" is a value judgement; the clause *analyzing them* is vague and obviously an obfuscation.   In CECE Mechanics Courses a listing of known,unknown, and governing equations will suffice and be emphasized, citation of data sources (URL, or tables in books) is considered vital and is also emphasized.\n",
    "\n",
    "### Data Abstraction\n",
    "\n",
    "The next item in the list *Representing data through abstractions* as a practical matter refers to model(s) of the mechanics under consideration.  In past and present contexts the sketching of a situation and formulation of sets of equations describing the kinematics, forces, and accelerations constitutes the major abstraction.  The replacement of distributed forces with equivalent point forces and similar superpositional-type models are typical abstractions.  \n",
    "\n",
    "As such, drawing the Free-Body Diagram (FBD) and substitution of user-defined forces into the governing equations of the previous component is data abstraction!  If the data are stochastic in some sense then their explicit values being replaced with an estimate from their underlying probability distribution would similarily be data abstraction.  \n",
    "\n",
    "In CECE Mechanics Courses \n",
    "\n",
    "- a drawing of a coordinate system, \n",
    "- a FBD (or multiple diagrams as necessary, especially if there are contact forces involved), \n",
    "- naming and line of application conventions for the forces comprises the major data abstraction activity.\n",
    "- substitution of these named forces into governing equations\n",
    "\n",
    "constitutes data abstraction and creates the data model for the problem.\n",
    "\n",
    "### Automating solutions\n",
    "\n",
    "The automation of solutions \n",
    "\n",
    "### Assessing possible solutions to obtain the most effective combination.\n",
    "\n",
    "This is a bullshit characteristic, but will work up something\n",
    "\n",
    "- Do nothing \"solution\"\n",
    "- Steal IP from someone else \"solution\"\n",
    "- Beat to death with numerics (that sounds computational!)\n",
    "- Throw money at the problem, let the crowd find an answer\n",
    "- \n",
    "\n",
    "### Generalizing to a wide variety of solutions\n",
    "\n",
    "Also somewhat bullshit.  See \"automation\" above."
   ]
  },
  {
   "cell_type": "markdown",
   "metadata": {},
   "source": [
    "## References\n",
    "\n",
    "1. Wing, J. (2006). *Computational Thinning* COMMUNICATIONS OF THE ACM March 2006/Vol. 49, No. 3. [http://www.cs.cmu.edu/~15110-s13/Wing06-ct.pdf](http://www.cs.cmu.edu/~15110-s13/Wing06-ct.pdf)\n",
    "\n",
    "2. Concepción Varela, Carolina Rebollar, Olatz García Eugenio, and Bravo Javier Bilbao. (2019) *Skills in computational thinking of engineering students of the first school year* Helyion. Vol. 5, No. 11, DOI: [https://doi.org/10.1016/j.heliyon.2019.e02820](https://doi.org/10.1016/j.heliyon.2019.e02820)"
   ]
  },
  {
   "cell_type": "code",
   "execution_count": null,
   "metadata": {},
   "outputs": [],
   "source": []
  }
 ],
 "metadata": {
  "kernelspec": {
   "display_name": "Python 3",
   "language": "python",
   "name": "python3"
  },
  "language_info": {
   "codemirror_mode": {
    "name": "ipython",
    "version": 3
   },
   "file_extension": ".py",
   "mimetype": "text/x-python",
   "name": "python",
   "nbconvert_exporter": "python",
   "pygments_lexer": "ipython3",
   "version": "3.8.10"
  }
 },
 "nbformat": 4,
 "nbformat_minor": 4
}
