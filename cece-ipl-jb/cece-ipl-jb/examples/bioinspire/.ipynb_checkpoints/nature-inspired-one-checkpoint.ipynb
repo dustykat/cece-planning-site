{
 "cells": [
  {
   "cell_type": "markdown",
   "metadata": {},
   "source": [
    "# CE 2201 Materials for Constructed Facilities "
   ]
  },
  {
   "cell_type": "markdown",
   "metadata": {},
   "source": [
    "## Nature Inspried Material Selection\n",
    "\n",
    "A downstream application of ENGR-1320\n",
    "\n",
    "Contributed by Tewodros Ghebrab \n",
    "\n",
    "---"
   ]
  },
  {
   "cell_type": "markdown",
   "metadata": {},
   "source": [
    ":::{note}\n",
    "**Prerequesites (for this example)\n",
    ">- Students will have completed ENGR-1320\n",
    ">- Students are enrolled in CE 2201, this problem is intended for group participation in that course\n",
    "\n",
    "**Problem Modality**\n",
    ">- Research using internet and library resources\n",
    ">- Synthesize findings in a report\n",
    "\n",
    "**Special Instructions**\n",
    ">- Group exercise\n",
    ":::"
   ]
  },
  {
   "cell_type": "markdown",
   "metadata": {},
   "source": [
    "## Instructions: \n",
    "\n",
    "- Each team must work on a different topic.\n",
    "- Select your topic and check with the instructor to ensure that another group has not selected the topic. "
   ]
  },
  {
   "cell_type": "markdown",
   "metadata": {},
   "source": [
    "## Background\n",
    "\n",
    "Nature (Biologically) inspired engineering design uses analogs to natural (biological) systems to develop solutions for engineering problems and can be beneficial for developing sustainable solutions to engineering problems. The innate complexity of natural systems can inspire engineers attempting to create designs involving higher levels of complexity. Several bio-inspired designs have been used in solving problems, such as the imitation of the design of pinecones to design body heat regulating clothes and the design of micro-robots that can walk on water mimicking the basilisk lizard. \n",
    "\n",
    "## Problem Statement\n",
    "\n",
    "1. Explore using the internet, youtube, books (there is a huge building full of books on campus!) the world of biological materials and select one material for a detailed study that can act as inspiration in the development of new engineering materials. The material you choose can be from the plant or animal kingdom (geological materials are explicitly excluded because they are considered unsustainable).\n",
    "2. Describe the selected material by addressing its uses in the natural world, its evolution, constituents, characteristics, and unique performance features. \n",
    "3. Propose, in detail, an idea(s) to develop a novel, sustainable engineering material solution (i.e., material + application) that is inspired by the biological material you selected. \n",
    "4. (Optional) Based on your study of the selected biological material, present a new bio-inspired design concept for a construction material that can help find solutions to existing problems. (Optional)\n"
   ]
  },
  {
   "cell_type": "markdown",
   "metadata": {},
   "source": [
    "## Deliverables:\n",
    "- Each team is expected to submit one report.\n",
    "> - The report should not be more than three pages, excluding the cover page. \n",
    "> - The report should be uploaded on Blackboard in PDF format as a single file.\n",
    "> - The course-section number, course name, project title, and team members' names should be shown on the cover page of the report."
   ]
  },
  {
   "cell_type": "markdown",
   "metadata": {},
   "source": [
    ":::{note}\n",
    "A possible modification would be to pose the material problem as a performance requirement - mass per ..., yield stress, ...  Then using these requirements find natural materials that are close in performance, then evaluate cost, availability, social-technical issues.\n",
    ":::"
   ]
  },
  {
   "cell_type": "code",
   "execution_count": null,
   "metadata": {},
   "outputs": [],
   "source": []
  }
 ],
 "metadata": {
  "kernelspec": {
   "display_name": "Python 3",
   "language": "python",
   "name": "python3"
  },
  "language_info": {
   "codemirror_mode": {
    "name": "ipython",
    "version": 3
   },
   "file_extension": ".py",
   "mimetype": "text/x-python",
   "name": "python",
   "nbconvert_exporter": "python",
   "pygments_lexer": "ipython3",
   "version": "3.8.10"
  }
 },
 "nbformat": 4,
 "nbformat_minor": 5
}
