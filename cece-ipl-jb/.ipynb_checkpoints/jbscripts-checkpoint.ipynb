{
 "cells": [
  {
   "cell_type": "code",
   "execution_count": 13,
   "metadata": {},
   "outputs": [
    {
     "name": "stdout",
     "output_type": "stream",
     "text": [
      "total 36\n",
      "drwxr-xr-x  4 sensei sensei 4096 Nov 22 22:42 .\n",
      "drwxrwxr-x 15 sensei sensei 4096 Nov 15 21:18 ..\n",
      "drwxrwxr-x  2 sensei sensei 4096 Nov 12 18:19 .ipynb_checkpoints\n",
      "drwxr-xr-x  9 sensei sensei 4096 Nov 22 22:43 cece-ipl-jb\n",
      "-rw-rw-r--  1 sensei sensei 9650 Nov 22 22:42 jbscripts.ipynb\n",
      "-rw-r--r--  1 sensei sensei 3705 Nov 11 13:42 markdown.md\n",
      "-rw-r--r--  1 sensei sensei 3379 Nov 12 18:21 notebooks.ipynb\n"
     ]
    }
   ],
   "source": [
    "import sys\n",
    "! ls -la\n",
    "! rm -rf _build"
   ]
  },
  {
   "cell_type": "code",
   "execution_count": 4,
   "metadata": {},
   "outputs": [
    {
     "name": "stdout",
     "output_type": "stream",
     "text": [
      "\n",
      "\u001b[92m===============================================================================\u001b[0m\n",
      "\n",
      "Your book template can be found at\n",
      "\n",
      "    cece-ipl-jb/\n",
      "\n",
      "\u001b[92m===============================================================================\u001b[0m\n",
      "\n"
     ]
    }
   ],
   "source": [
    "! jupyter-book create cece-ipl-jb/"
   ]
  },
  {
   "cell_type": "code",
   "execution_count": 1,
   "metadata": {},
   "outputs": [
    {
     "name": "stdout",
     "output_type": "stream",
     "text": [
      "\u001b[32m\u001b[1mRunning Jupyter-Book v0.12.0\u001b[0m\n",
      "\u001b[34m\u001b[1mSource Folder: \u001b[0m/home/sensei/cece-planning-site/cece-ipl-jb/cece-ipl-jb\n",
      "\u001b[34m\u001b[1mConfig Path: \u001b[0m/home/sensei/cece-planning-site/cece-ipl-jb/cece-ipl-jb/_config.yml\n",
      "\u001b[34m\u001b[1mOutput Path: \u001b[0m/home/sensei/cece-planning-site/cece-ipl-jb/cece-ipl-jb/_build/html\n",
      "\u001b[01mRunning Sphinx v3.5.2\u001b[39;49;00m\n",
      "[etoc] Changing master_doc to 'intro'\n",
      "\u001b[01mloading pickled environment... \u001b[39;49;00mchecking for /home/sensei/cece-planning-site/cece-ipl-jb/cece-ipl-jb/references.bib in bibtex cache... up to date\n",
      "done\n",
      "\u001b[01mmyst v0.15.2:\u001b[39;49;00m MdParserConfig(renderer='sphinx', commonmark_only=False, enable_extensions=['colon_fence', 'dollarmath', 'linkify', 'substitution', 'tasklist'], dmath_allow_labels=True, dmath_allow_space=True, dmath_allow_digits=True, dmath_double_inline=False, update_mathjax=True, mathjax_classes='tex2jax_process|mathjax_process|math|output_area', disable_syntax=[], url_schemes=['mailto', 'http', 'https'], heading_anchors=None, heading_slug_func=None, html_meta=[], footnote_transition=True, substitutions=[], sub_delimiters=['{', '}'], words_per_minute=200)\n",
      "\u001b[01mbuilding [mo]: \u001b[39;49;00mtargets for 0 po files that are out of date\n",
      "\u001b[01mbuilding [html]: \u001b[39;49;00mtargets for 0 source files that are out of date\n",
      "\u001b[01mupdating environment: \u001b[39;49;00m8 added, 8 changed, 6 removed\n",
      "Executing: examples/background/mechanics-bg in: /home/sensei/cece-planning-site/cece-ipl-jb/cece-ipl-jb/examples/background\n",
      "Executing: examples/bioinspire/nature-inspired-one in: /home/sensei/cece-planning-site/cece-ipl-jb/cece-ipl-jb/examples/bioinspire\n",
      "Executing: examples/bioinspire/nature-inspired-two in: /home/sensei/cece-planning-site/cece-ipl-jb/cece-ipl-jb/examples/bioinspire\n",
      "Executing: examples/feasibilities/feasibilities in: /home/sensei/cece-planning-site/cece-ipl-jb/cece-ipl-jb/examples/feasibilities\n",
      "Executing: examples/fluids-fishrace/fluids in: /home/sensei/cece-planning-site/cece-ipl-jb/cece-ipl-jb/examples/fluids-fishrace\n",
      "\n",
      "\u001b[91mException occurred:\u001b[39;49;00m\n",
      "  File \"/opt/jupyterhub/lib/python3.8/site-packages/myst_parser/docutils_renderer.py\", line 730, in render_table\n",
      "    assert token.children and len(token.children) > 1\n",
      "AssertionError\n",
      "\u001b[91mThe full traceback has been saved in /tmp/sphinx-err-cn7gw83i.log, if you want to report the issue to the developers.\u001b[39;49;00m\n",
      "Please also report this if it was a user error, so that a better error message can be provided next time.\n",
      "A bug report can be filed in the tracker at <https://github.com/sphinx-doc/sphinx/issues>. Thanks!\n",
      "Traceback (most recent call last):\n",
      "  File \"/opt/jupyterhub/lib/python3.8/site-packages/jupyter_book/sphinx.py\", line 167, in build_sphinx\n",
      "    app.build(force_all, filenames)\n",
      "  File \"/opt/jupyterhub/lib/python3.8/site-packages/sphinx/application.py\", line 352, in build\n",
      "    self.builder.build_update()\n",
      "  File \"/opt/jupyterhub/lib/python3.8/site-packages/sphinx/builders/__init__.py\", line 296, in build_update\n",
      "    self.build(to_build,\n",
      "  File \"/opt/jupyterhub/lib/python3.8/site-packages/sphinx/builders/__init__.py\", line 310, in build\n",
      "    updated_docnames = set(self.read())\n",
      "  File \"/opt/jupyterhub/lib/python3.8/site-packages/sphinx/builders/__init__.py\", line 417, in read\n",
      "    self._read_serial(docnames)\n",
      "  File \"/opt/jupyterhub/lib/python3.8/site-packages/sphinx/builders/__init__.py\", line 438, in _read_serial\n",
      "    self.read_doc(docname)\n",
      "  File \"/opt/jupyterhub/lib/python3.8/site-packages/sphinx/builders/__init__.py\", line 478, in read_doc\n",
      "    doctree = read_doc(self.app, self.env, self.env.doc2path(docname))\n",
      "  File \"/opt/jupyterhub/lib/python3.8/site-packages/sphinx/io.py\", line 221, in read_doc\n",
      "    pub.publish()\n",
      "  File \"/opt/jupyterhub/lib/python3.8/site-packages/docutils/core.py\", line 217, in publish\n",
      "    self.document = self.reader.read(self.source, self.parser,\n",
      "  File \"/opt/jupyterhub/lib/python3.8/site-packages/sphinx/io.py\", line 126, in read\n",
      "    self.parse()\n",
      "  File \"/opt/jupyterhub/lib/python3.8/site-packages/docutils/readers/__init__.py\", line 77, in parse\n",
      "    self.parser.parse(self.input, document)\n",
      "  File \"/opt/jupyterhub/lib/python3.8/site-packages/myst_nb/parser.py\", line 91, in parse\n",
      "    tokens_to_docutils(md_parser, env, tokens, document)\n",
      "  File \"/opt/jupyterhub/lib/python3.8/site-packages/myst_nb/parser.py\", line 218, in tokens_to_docutils\n",
      "    md.renderer.render(tokens, md.options, env)\n",
      "  File \"/opt/jupyterhub/lib/python3.8/site-packages/myst_parser/docutils_renderer.py\", line 187, in render\n",
      "    self._render_tokens(list(tokens))\n",
      "  File \"/opt/jupyterhub/lib/python3.8/site-packages/myst_parser/docutils_renderer.py\", line 166, in _render_tokens\n",
      "    self.rules[f\"render_{child.type}\"](child)\n",
      "  File \"/opt/jupyterhub/lib/python3.8/site-packages/myst_parser/docutils_renderer.py\", line 730, in render_table\n",
      "    assert token.children and len(token.children) > 1\n",
      "AssertionError\n",
      "\n",
      "The above exception was the direct cause of the following exception:\n",
      "\n",
      "Traceback (most recent call last):\n",
      "  File \"/opt/jupyterhub/bin/jupyter-book\", line 8, in <module>\n",
      "    sys.exit(main())\n",
      "  File \"/opt/jupyterhub/lib/python3.8/site-packages/click/core.py\", line 829, in __call__\n",
      "    return self.main(*args, **kwargs)\n",
      "  File \"/opt/jupyterhub/lib/python3.8/site-packages/click/core.py\", line 782, in main\n",
      "    rv = self.invoke(ctx)\n",
      "  File \"/opt/jupyterhub/lib/python3.8/site-packages/click/core.py\", line 1259, in invoke\n",
      "    return _process_result(sub_ctx.command.invoke(sub_ctx))\n",
      "  File \"/opt/jupyterhub/lib/python3.8/site-packages/click/core.py\", line 1066, in invoke\n",
      "    return ctx.invoke(self.callback, **ctx.params)\n",
      "  File \"/opt/jupyterhub/lib/python3.8/site-packages/click/core.py\", line 610, in invoke\n",
      "    return callback(*args, **kwargs)\n",
      "  File \"/opt/jupyterhub/lib/python3.8/site-packages/jupyter_book/cli/main.py\", line 319, in build\n",
      "    builder_specific_actions(\n",
      "  File \"/opt/jupyterhub/lib/python3.8/site-packages/jupyter_book/cli/main.py\", line 519, in builder_specific_actions\n",
      "    raise RuntimeError(_message_box(msg, color=\"red\", doprint=False)) from result\n",
      "RuntimeError: \n",
      "\u001b[91m===============================================================================\u001b[0m\n",
      "\n",
      "There was an error in building your book. Look above for the cause.\n",
      "\n",
      "\u001b[91m===============================================================================\u001b[0m\n",
      "\n"
     ]
    }
   ],
   "source": [
    "! jupyter-book build cece-ipl-jb/"
   ]
  },
  {
   "cell_type": "code",
   "execution_count": null,
   "metadata": {},
   "outputs": [],
   "source": []
  }
 ],
 "metadata": {
  "kernelspec": {
   "display_name": "Python 3",
   "language": "python",
   "name": "python3"
  },
  "language_info": {
   "codemirror_mode": {
    "name": "ipython",
    "version": 3
   },
   "file_extension": ".py",
   "mimetype": "text/x-python",
   "name": "python",
   "nbconvert_exporter": "python",
   "pygments_lexer": "ipython3",
   "version": "3.8.10"
  }
 },
 "nbformat": 4,
 "nbformat_minor": 4
}
