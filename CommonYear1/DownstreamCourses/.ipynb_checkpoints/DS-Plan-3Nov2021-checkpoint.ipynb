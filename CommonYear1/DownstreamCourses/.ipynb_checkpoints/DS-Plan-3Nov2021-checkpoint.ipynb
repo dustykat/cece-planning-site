{
 "cells": [
  {
   "cell_type": "markdown",
   "metadata": {},
   "source": [
    "**Download** this page as a Jupyter Notebook at [http://54.243.252.9/cece-dev-databases/cece-planning-site/CommonYear1/DownstreamCourses/DS-Plan-3Nov2021.ipynb](http://54.243.252.9/cece-dev-databases/cece-planning-site/CommonYear1/DownstreamCourses/DS-Plan-3Nov2021.ipynb) \n",
    "\n",
    "Last Git commit: 3 Nov 2021\n",
    "\n",
    "---"
   ]
  },
  {
   "cell_type": "markdown",
   "metadata": {},
   "source": [
    "<!--<div class=\"alert alert-block alert-info\">-->\n",
    "<h1> CECE Integration of Common Engineering Core into Curriculum </h1>\n",
    "<!--</div>-->"
   ]
  },
  {
   "cell_type": "markdown",
   "metadata": {},
   "source": [
    "The terminology \"Common Year-1\" and \"Common Engineering Core\" used interchangeably in  CECE internal planning documents.  Specifically it refers to the 4 year-1 courses below: The acronyms adjacent to three of the courses are used to identify the \"threads\", \"themes\" or whatever term we wish to use for \"downstream\" inclusion of knowledge, skills, abilities (KSA) examined in these year-1 courses.\n",
    "\n",
    "### Four \"Common Engineering Core\" courses:\n",
    "- A-Z of engineering (ENGR 1100)\n",
    "- **BID** Nature Inspired Principles (ENGR 1320)\n",
    "- **CTDS** Computational Thinking and Data Science (ENGR 1330)\n",
    "- **ST** Socio-Technological Aspects (ENGR 2392)"
   ]
  },
  {
   "cell_type": "markdown",
   "metadata": {},
   "source": [
    "<div class=\"alert alert-block alert-info\">\n",
    "    <h1> Downstream Mapping - Year 2 (Sophomore) </h1>\n",
    "</div>"
   ]
  },
  {
   "cell_type": "markdown",
   "metadata": {},
   "source": [
    "\n",
    "\n",
    "---\n",
    "\n",
    "#### Civil \n",
    "\n",
    "|CECE Course|Core Thread(s)|Method(s)|Remarks|\n",
    "|---|---|---|---|\n",
    "|CE2301|- BID <br>- CTDS |Selected homework from [CECE IPL](http://54.243.252.9/cece-dev-databases/cece-planning-site/ctdslibrary-webroot/ctds-webbook/site/)|- CTDS Static Truss <br> - Need BID idea|\n",
    "|CONE2302|- CTDS <br>- ST |Selected homework from [CECE IPL](http://54.243.252.9/cece-dev-databases/cece-planning-site/ctdslibrary-webroot/ctds-webbook/site/)|- CTDS Area from Turning Points (in progress)<br> - Need ST idea|\n",
    "|CE3303|- BID <br>- CTDS <br>|Selected homework from [CECE IPL](http://54.243.252.9/cece-dev-databases/cece-planning-site/ctdslibrary-webroot/ctds-webbook/site/)|- Need BID idea <br> - CTDS Beam analyzer (with cool graphics) (in progress)|\n",
    "|CE3305|- CTDS |Selected homework from [CECE IPL](http://54.243.252.9/cece-dev-databases/cece-planning-site/ctdslibrary-webroot/ctds-webbook/site/)|- CTDS Jet Pump Design (in progress) |\n",
    "|CE2201|- BID |Selected homework from [CECE IPL](http://54.243.252.9/cece-dev-databases/cece-planning-site/ctdslibrary-webroot/ctds-webbook/site/)|- BID Nature Inspired Material Selection (Literature review and synthesis)|"
   ]
  },
  {
   "cell_type": "markdown",
   "metadata": {},
   "source": [
    "---\n",
    "\n",
    "#### Construction \n",
    "\n",
    "|CECE Course|Core Thread(s)|Method(s)|Remarks|\n",
    "|---|---|---|---|\n",
    "|CE2301|- BID <br>- CTDS |Selected homework from [CECE IPL](http://54.243.252.9/cece-dev-databases/cece-planning-site/ctdslibrary-webroot/ctds-webbook/site/)|- CTDS Static Truss <br> - Need BID idea|\n",
    "|CONE2302|- CTDS <br>- ST |Selected homework from [CECE IPL](http://54.243.252.9/cece-dev-databases/cece-planning-site/ctdslibrary-webroot/ctds-webbook/site/)|- CTDS Area from Turning Points (in progress)<br> - Need ST idea|\n",
    "|CE3303|- BID <br>- CTDS <br>|Selected homework from [CECE IPL](http://54.243.252.9/cece-dev-databases/cece-planning-site/ctdslibrary-webroot/ctds-webbook/site/)|- Need BID idea <br> - CTDS Beam analyzer (with cool graphics) (in progress)|\n",
    "|CE3305|- CTDS |Selected homework from [CECE IPL](http://54.243.252.9/cece-dev-databases/cece-planning-site/ctdslibrary-webroot/ctds-webbook/site/)|- CTDS Jet Pump Design (in progress) |\n",
    "|CE2201|- BID |Selected homework from [CECE IPL](http://54.243.252.9/cece-dev-databases/cece-planning-site/ctdslibrary-webroot/ctds-webbook/site/)|- BID (in progress)|\n",
    "|CONE2200|- ST |Selected homework from [CECE IPL](http://54.243.252.9/cece-dev-databases/cece-planning-site/ctdslibrary-webroot/ctds-webbook/site/)|- Need ST idea|"
   ]
  },
  {
   "cell_type": "markdown",
   "metadata": {},
   "source": [
    "---\n",
    "\n",
    "#### Environmental\n",
    "\n",
    "|CECE Course|Core Thread(s)|Method(s)|Remarks|\n",
    "|---|---|---|---|\n",
    "|CE2301|- BID <br>- CTDS |Selected homework from [CECE IPL](http://54.243.252.9/cece-dev-databases/cece-planning-site/ctdslibrary-webroot/ctds-webbook/site/)|- CTDS Static Truss <br> - Need BID idea|\n",
    "|CE3305|- CTDS |Selected homework from [CECE IPL](http://54.243.252.9/cece-dev-databases/cece-planning-site/ctdslibrary-webroot/ctds-webbook/site/)|- CTDS Jet Pump Design (in progress) |"
   ]
  },
  {
   "cell_type": "markdown",
   "metadata": {},
   "source": [
    "---\n",
    "<div class=\"alert alert-block alert-warning\">\n",
    "    <h1> Downstream Mapping - Year 3 (Junior) </h1>\n",
    "</div>\n",
    "\n"
   ]
  },
  {
   "cell_type": "markdown",
   "metadata": {},
   "source": [
    "---\n",
    "\n",
    "#### Civil \n",
    "\n",
    "|CECE Course|Core Thread(s)|Method(s)|Remarks|\n",
    "|---|---|---|---|\n"
   ]
  },
  {
   "cell_type": "markdown",
   "metadata": {},
   "source": [
    "---\n",
    "#### Construction \n",
    "\n",
    "|CECE Course|Core Thread(s)|Method(s)|Remarks|\n",
    "|---|---|---|---|\n"
   ]
  },
  {
   "cell_type": "markdown",
   "metadata": {},
   "source": [
    "---\n",
    "\n",
    "#### Environmental\n",
    "\n",
    "|CECE Course|Core Thread(s)|Method(s)|Remarks|\n",
    "|---|---|---|---|\n"
   ]
  },
  {
   "cell_type": "markdown",
   "metadata": {},
   "source": [
    "---\n",
    "<div class=\"alert alert-block alert-success\">\n",
    "    <h1> Downstream Mapping - Year 4 (Senior) </h1>\n",
    "</div>\n",
    "\n"
   ]
  },
  {
   "cell_type": "markdown",
   "metadata": {},
   "source": [
    "---\n",
    "\n",
    "#### Civil \n",
    "\n",
    "|CECE Course|Core Thread(s)|Method(s)|Remarks|\n",
    "|---|---|---|---|\n"
   ]
  },
  {
   "cell_type": "markdown",
   "metadata": {},
   "source": [
    "---\n",
    "#### Construction \n",
    "\n",
    "|CECE Course|Core Thread(s)|Method(s)|Remarks|\n",
    "|---|---|---|---|\n"
   ]
  },
  {
   "cell_type": "markdown",
   "metadata": {},
   "source": [
    "---\n",
    "\n",
    "#### Environmental\n",
    "\n",
    "|CECE Course|Core Thread(s)|Method(s)|Remarks|\n",
    "|---|---|---|---|\n",
    "|CE4385|- BID |Selected homework from [CECE IPL](http://54.243.252.9/cece-dev-databases/cece-planning-site/ctdslibrary-webroot/ctds-webbook/site/)|- BID Biomimicry vs Direct use in a Treatment Process (Literature Review and Synthesis)|"
   ]
  },
  {
   "cell_type": "code",
   "execution_count": null,
   "metadata": {},
   "outputs": [],
   "source": []
  },
  {
   "cell_type": "code",
   "execution_count": null,
   "metadata": {},
   "outputs": [],
   "source": []
  }
 ],
 "metadata": {
  "kernelspec": {
   "display_name": "Python 3",
   "language": "python",
   "name": "python3"
  },
  "language_info": {
   "codemirror_mode": {
    "name": "ipython",
    "version": 3
   },
   "file_extension": ".py",
   "mimetype": "text/x-python",
   "name": "python",
   "nbconvert_exporter": "python",
   "pygments_lexer": "ipython3",
   "version": "3.8.10"
  }
 },
 "nbformat": 4,
 "nbformat_minor": 4
}
