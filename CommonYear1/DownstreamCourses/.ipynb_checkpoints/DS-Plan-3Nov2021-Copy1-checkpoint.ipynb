{
 "cells": [
  {
   "cell_type": "code",
   "execution_count": null,
   "metadata": {},
   "outputs": [],
   "source": []
  },
  {
   "cell_type": "markdown",
   "metadata": {},
   "source": [
    "# Integration of Common Engineering Core"
   ]
  },
  {
   "cell_type": "markdown",
   "metadata": {},
   "source": [
    "Common Yr1 and Common Engineering Core used interchangeably in  CECE internal planning documents.\n",
    "### Four (4) core areas:\n",
    "- A-Z of engineering (ENGR 1100)\n",
    "- **BID** Nature Inspired Principles (ENGR 1320)\n",
    "- **CTDS** Computational Thinking and Data Science (ENGR 1330)\n",
    "- **ST** Socio-Technological Aspects (ENGR 2392)"
   ]
  },
  {
   "cell_type": "markdown",
   "metadata": {},
   "source": [
    "<div class=\"alert alert-block alert-info\">\n",
    "    <h1> Downstream Mapping - Year 2 (Sophomore) </h1>\n",
    "</div>\n",
    "\n",
    "---\n",
    "\n",
    "#### Civil \n",
    "\n",
    "|CECE Course|Core Thread(s)|Method(s)|Remarks|\n",
    "|---|---|---|---|\n",
    "|CE2301|- BID <br>- CTDS |Selected homework from [CECE IPL](http://54.243.252.9/cece-dev-databases/cece-planning-site/ctdslibrary-webroot/ctds-webbook/site/)|- CTDS Static Truss <br> - Need BID idea|\n",
    "|CONE2302|- CTDS <br>- ST |Selected homework from [CECE IPL](http://54.243.252.9/cece-dev-databases/cece-planning-site/ctdslibrary-webroot/ctds-webbook/site/)|- CTDS Area from Turning Points (in progress)<br> - Need ST idea|\n",
    "|CE3303|- BID <br>- CTDS <br>|Selected homework from [CECE IPL](http://54.243.252.9/cece-dev-databases/cece-planning-site/ctdslibrary-webroot/ctds-webbook/site/)|- Need BID idea <br> - CTDS Beam analyzer (with cool graphics) (in progress)|\n",
    "|CE3305|- CTDS |Selected homework from [CECE IPL](http://54.243.252.9/cece-dev-databases/cece-planning-site/ctdslibrary-webroot/ctds-webbook/site/)|- CTDS Jet Pump Design (in progress) |\n",
    "|CE2201|- BID |Selected homework from [CECE IPL](http://54.243.252.9/cece-dev-databases/cece-planning-site/ctdslibrary-webroot/ctds-webbook/site/)|- BID Nature Inspired Material Selection (Literature review and synthesis)|"
   ]
  },
  {
   "cell_type": "markdown",
   "metadata": {},
   "source": [
    "---\n",
    "\n",
    "#### Construction \n",
    "\n",
    "|CECE Course|Core Thread(s)|Method(s)|Remarks|\n",
    "|---|---|---|---|\n",
    "|CE2301|- BID <br>- CTDS |Selected homework from [CECE IPL](http://54.243.252.9/cece-dev-databases/cece-planning-site/ctdslibrary-webroot/ctds-webbook/site/)|- CTDS Static Truss <br> - Need BID idea|\n",
    "|CONE2302|- CTDS <br>- ST |Selected homework from [CECE IPL](http://54.243.252.9/cece-dev-databases/cece-planning-site/ctdslibrary-webroot/ctds-webbook/site/)|- CTDS Area from Turning Points (in progress)<br> - Need ST idea|\n",
    "|CE3303|- BID <br>- CTDS <br>|Selected homework from [CECE IPL](http://54.243.252.9/cece-dev-databases/cece-planning-site/ctdslibrary-webroot/ctds-webbook/site/)|- Need BID idea <br> - CTDS Beam analyzer (with cool graphics) (in progress)|\n",
    "|CE3305|- CTDS |Selected homework from [CECE IPL](http://54.243.252.9/cece-dev-databases/cece-planning-site/ctdslibrary-webroot/ctds-webbook/site/)|- CTDS Jet Pump Design (in progress) |\n",
    "|CE2201|- BID |Selected homework from [CECE IPL](http://54.243.252.9/cece-dev-databases/cece-planning-site/ctdslibrary-webroot/ctds-webbook/site/)|- BID (in progress)|\n",
    "|CONE2200|- ST |Selected homework from [CECE IPL](http://54.243.252.9/cece-dev-databases/cece-planning-site/ctdslibrary-webroot/ctds-webbook/site/)|- Need ST idea|"
   ]
  },
  {
   "cell_type": "markdown",
   "metadata": {},
   "source": [
    "---\n",
    "\n",
    "#### Environmental\n",
    "\n",
    "|CECE Course|Core Thread(s)|Method(s)|Remarks|\n",
    "|---|---|---|---|\n",
    "|CE2301|- BID <br>- CTDS |Selected homework from [CECE IPL](http://54.243.252.9/cece-dev-databases/cece-planning-site/ctdslibrary-webroot/ctds-webbook/site/)|- CTDS Static Truss <br> - Need BID idea|\n",
    "|CE3305|- CTDS |Selected homework from [CECE IPL](http://54.243.252.9/cece-dev-databases/cece-planning-site/ctdslibrary-webroot/ctds-webbook/site/)|- CTDS Jet Pump Design (in progress) |"
   ]
  },
  {
   "cell_type": "markdown",
   "metadata": {},
   "source": [
    "---\n",
    "<div class=\"alert alert-block alert-info\">\n",
    "    <h1> Downstream Mapping - Year 3 (Junior) </h1>\n",
    "</div>\n",
    "\n"
   ]
  },
  {
   "cell_type": "markdown",
   "metadata": {},
   "source": [
    "---\n",
    "\n",
    "#### Civil \n",
    "\n",
    "|CECE Course|Core Thread(s)|Method(s)|Remarks|\n",
    "|---|---|---|---|\n"
   ]
  },
  {
   "cell_type": "markdown",
   "metadata": {},
   "source": [
    "---\n",
    "#### Construction \n",
    "\n",
    "|CECE Course|Core Thread(s)|Method(s)|Remarks|\n",
    "|---|---|---|---|\n"
   ]
  },
  {
   "cell_type": "markdown",
   "metadata": {},
   "source": [
    "---\n",
    "\n",
    "#### Environmental\n",
    "\n",
    "|CECE Course|Core Thread(s)|Method(s)|Remarks|\n",
    "|---|---|---|---|\n"
   ]
  },
  {
   "cell_type": "markdown",
   "metadata": {},
   "source": [
    "---\n",
    "<div class=\"alert alert-block alert-info\">\n",
    "    <h1> Downstream Mapping - Year 4 (Senior) </h1>\n",
    "</div>\n",
    "\n"
   ]
  },
  {
   "cell_type": "markdown",
   "metadata": {},
   "source": [
    "---\n",
    "\n",
    "#### Civil \n",
    "\n",
    "|CECE Course|Core Thread(s)|Method(s)|Remarks|\n",
    "|---|---|---|---|\n"
   ]
  },
  {
   "cell_type": "markdown",
   "metadata": {},
   "source": [
    "---\n",
    "#### Construction \n",
    "\n",
    "|CECE Course|Core Thread(s)|Method(s)|Remarks|\n",
    "|---|---|---|---|\n"
   ]
  },
  {
   "cell_type": "markdown",
   "metadata": {},
   "source": [
    "---\n",
    "\n",
    "#### Environmental\n",
    "\n",
    "|CECE Course|Core Thread(s)|Method(s)|Remarks|\n",
    "|---|---|---|---|\n",
    "|CE4385|- BID |Selected homework from [CECE IPL](http://54.243.252.9/cece-dev-databases/cece-planning-site/ctdslibrary-webroot/ctds-webbook/site/)|- BID Biomimicry vs Direct use in a Treatment Process (Literature Review and Synthesis)|"
   ]
  },
  {
   "cell_type": "markdown",
   "metadata": {},
   "source": [
    "<div class=\"alert alert-block alert-info\">\n",
    "<b>Tip:</b> Use blue boxes (alert-info) for tips and notes. \n",
    "If it’s a note, you don’t have to include the word “Note”.\n",
    "</div>"
   ]
  },
  {
   "cell_type": "markdown",
   "metadata": {},
   "source": [
    "<div class=\"alert alert-block alert-warning\">\n",
    "<b>Example:</b> Yellow Boxes are generally used to include additional examples or mathematical formulas.\n",
    "</div>"
   ]
  },
  {
   "cell_type": "markdown",
   "metadata": {},
   "source": [
    "<div class=\"alert alert-block alert-success\">\n",
    "Use green box only when necessary like to display links to related content.\n",
    "</div>"
   ]
  },
  {
   "cell_type": "code",
   "execution_count": null,
   "metadata": {},
   "outputs": [],
   "source": []
  },
  {
   "cell_type": "code",
   "execution_count": null,
   "metadata": {},
   "outputs": [],
   "source": []
  }
 ],
 "metadata": {
  "kernelspec": {
   "display_name": "Python 3",
   "language": "python",
   "name": "python3"
  },
  "language_info": {
   "codemirror_mode": {
    "name": "ipython",
    "version": 3
   },
   "file_extension": ".py",
   "mimetype": "text/x-python",
   "name": "python",
   "nbconvert_exporter": "python",
   "pygments_lexer": "ipython3",
   "version": "3.8.10"
  }
 },
 "nbformat": 4,
 "nbformat_minor": 4
}
