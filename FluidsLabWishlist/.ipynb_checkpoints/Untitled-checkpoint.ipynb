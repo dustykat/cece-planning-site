{
 "cells": [
  {
   "cell_type": "markdown",
   "metadata": {},
   "source": [
    "# Fluids Laboratory (Wish List)"
   ]
  },
  {
   "cell_type": "markdown",
   "metadata": {},
   "source": [
    "## Devices to Replace/Enhance Current Experiments\n",
    "\n",
    "|Current Experiment|New Experiment|Educational Value|\n",
    "|---|---|---|\n",
    "|- [Viscosity using Stokes Law (Theory)](http://54.243.252.9/ce-3105-webroot/ce3105notes/_build/html/lessons/laboratory1.html) <br> - [Viscosity using Stokes Law (Data)](http://54.243.252.9/ce-3105-webroot/2-Exercises/laboratory1/laboratory1.html)|Particle Drag Coefficients (https://sunlabtech.com/particle-drag-coefficients/)|Dedicated Instrument quicker set-up and changing conditions. Essentially the same as current experiment using dedicated apparatus unstead of salvaged labware|"
   ]
  },
  {
   "cell_type": "markdown",
   "metadata": {},
   "source": [
    "## Devices to Extend Current Experiment Suite \n",
    "\n",
    "|New Experiment|Educational Value|\n",
    "|---|---|\n",
    "|[Reynolds Demonstration](https://sunlabtech.com/osborne-reynolds-demonstration/)|Demonstrate Osborne Reynolds dye experiments and subsequent invention of the dimensonless group that characterizes laminar, transitional, and turbulent flow regimes. <br> - Uses 1.0 X 0.5 meters of bench space.  Will fit in current lab space without much fuss|\n",
    "|[Cake (Plate-and-Frame) Filtration](http://www.usdidactic.com/html/p3428.htm)|Illustrates deep bed filtration and cake (forming on a septum) filtration. <br> - A unit process at larger scale than typical benchtop filtration, plus deep bed.  <br> - Combine with a turbidimeter to illustrate breakthrough (in deep bed).  <br> - Illustrate dead end filtration and deliquoring <br> - Demonstrate cycle-time analysis <br> - Uses 2.0 x 1.0 meters of floor space |\n",
    "|[Hydrographs after Precipitation](http://www.usdidactic.com/html/p3427.htm#)|This would be a nice addition to the laboratory suite.  <br> - Uses 1.6 X 1.0 meter of floor space <br> - Has odd way to measure time-varying flow|\n",
    "|[Water Hammers in Pipes](http://www.usdidactic.com/html/p3187.htm#)|A transient flow experiment <br> - Can develop data and analyze using rigid-column theory or compressible flow theory|"
   ]
  },
  {
   "cell_type": "code",
   "execution_count": null,
   "metadata": {},
   "outputs": [],
   "source": []
  }
 ],
 "metadata": {
  "kernelspec": {
   "display_name": "Python 3",
   "language": "python",
   "name": "python3"
  },
  "language_info": {
   "codemirror_mode": {
    "name": "ipython",
    "version": 3
   },
   "file_extension": ".py",
   "mimetype": "text/x-python",
   "name": "python",
   "nbconvert_exporter": "python",
   "pygments_lexer": "ipython3",
   "version": "3.8.10"
  }
 },
 "nbformat": 4,
 "nbformat_minor": 4
}
