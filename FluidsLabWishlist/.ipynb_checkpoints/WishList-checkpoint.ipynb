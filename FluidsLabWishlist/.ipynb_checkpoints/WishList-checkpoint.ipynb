{
 "cells": [
  {
   "cell_type": "markdown",
   "metadata": {},
   "source": [
    "# Fluids Laboratory (Wish List)"
   ]
  },
  {
   "cell_type": "markdown",
   "metadata": {},
   "source": [
    "## Devices to Replace/Enhance Current Experiments\n",
    "\n",
    "|Current Experiment|New Experiment|Educational Value|\n",
    "|---|---|---|\n",
    "|- [Viscosity using Stokes Law (Theory)](http://54.243.252.9/ce-3105-webroot/ce3105notes/_build/html/lessons/laboratory1.html) <br> - [Viscosity using Stokes Law (Data)](http://54.243.252.9/ce-3105-webroot/2-Exercises/laboratory1/laboratory1.html)<br>|Particle Drag Coefficients (https://sunlabtech.com/particle-drag-coefficients/)|Dedicated Instrument quicker set-up and changing conditions. Essentially the same as current experiment using dedicated apparatus instead of salvaged labware<br>|"
   ]
  },
  {
   "cell_type": "markdown",
   "metadata": {},
   "source": [
    "## Devices to Extend Current Experiment Suite \n",
    "\n",
    "|New Experiment|Educational Value|\n",
    "|---|---|\n",
    "|[Reynolds Demonstration](https://sunlabtech.com/osborne-reynolds-demonstration/)|Demonstrate Osborne Reynolds dye experiments and subsequent invention of the dimensonless group that characterizes laminar, transitional, and turbulent flow regimes. <br> - Uses 1.0 X 0.5 meters of bench space.  Will fit in current lab space without much fuss<br>|\n",
    "|[Cake (Plate-and-Frame) Filtration](http://www.usdidactic.com/html/p3428.htm)|Illustrates deep bed filtration and cake (forming on a septum) filtration. <br> - A unit process at larger scale than typical benchtop filtration, plus deep bed.  <br> - Combine with a turbidimeter to illustrate breakthrough (in deep bed).  <br> - Illustrate dead end filtration and deliquoring <br> - Demonstrate cycle-time analysis <br> - Uses 2.0 x 1.0 meters of floor space <br>|\n",
    "|[Hydrographs after Precipitation](http://www.usdidactic.com/html/p3427.htm#)|This would be a nice addition to the laboratory suite.  <br> - Uses 1.6 X 1.0 meter of floor space <br> - Has odd way to  time-varying flow, but rest of apparatus is cool<br>|\n",
    "|[Water Hammer in Pipes](http://www.usdidactic.com/html/p3187.htm#)|A transient flow experiment <br> - Can develop data and analyze using rigid-column theory or elastic pipe theory <br> - Uses 1.0 X 1.0 meter of floor space<br>|\n",
    "|[Fluidized Bed (Upflow Filtration](http://www.usdidactic.com/html/p3316.htm#)|Demonstrate material \"quickening\" with upward fluid gradient <br> - Geotechnical implications <br> - Uses 0.75 x 0.70 meter of floor space<br>|\n",
    "|[Compressible Flow](https://sunlabtech.com/compressible-flow-unit/)|We don't do any compressible flow experiments, should add this someday <br> - Uses 0.9 X 0.65 meter of floor space<br>|\n",
    "|[Subsonic Wind Tunnel](https://sunlabtech.com/subsonic-wind-tunnel/)|Use to find drag coefficients of object of various shapes <br> - 3D print weird shapes, measure $C_D$ and render in dimensionless charts <br> - Uses 2.2 X 0.65 meter of floor space, weighs 220 Kg<br>|\n",
    "<br>"
   ]
  },
  {
   "cell_type": "markdown",
   "metadata": {},
   "source": [
    "\n",
    "## Instrumentation to Extend Current Experiment Suite \n",
    "\n",
    "The list below are some items that would require substantial DIY building, but once completed would greatly modernize the learning experience\n",
    "\n",
    "|Instruments|Educational Value|\n",
    "|---|---|\n",
    "|Septra or equivalent 0-35 psi pressure transducers|Replace manometer fittings, somewhat more modern tools and similar to what is used in industrial measurement and control <br> - Plumbing fittings (SwageLoc) to connect to existing devices also needed <br> - Need about 20 with 3 spares to instrument the various existing devices and tilting flume<br>|\n",
    "|Septra or equivalent 0-100 psi pressure transducers|Same as above, higher range<br>|\n",
    "|Single board microprocessors (Raspberry Pi or Arduino) to interface with above transducers <br> - Use as data loggers <br> - Include actuators to use as experiment controllers | Modern industrial control <br> - Can introduce process control (program as PID controllers) to some experiments <br> - Use to generate local (to the room) wireless network and computers can collect data and send directly to a local web server<br>|\n",
    "|[Non-contact Temperature Sensors](http://54.243.252.9/ce-5333-sensors-webroot/ce5333-sensors/ce4333jb/_build/html/lessons/lesson3/lesson3.html)|Use to record temperature with above microprocessors<br>|\n",
    "|[Hot Wire Anerometer](https://theorycircuit.com/tag/arduino-hot-wire-anemometer/)|These are fairly simple to build they go on one leg of a wheatstone bridge and from the resistance change, we measure velocity <br> - Used in air, water has too high a thermal conductivity and way too dense - it will break the wires , still would be meaningful to try with very low speed flows<br>|\n",
    "|[IR Flow Visualization](http://54.243.252.9/about-me-webroot/about-me/MyWebPapers/journal_papers/2014-Thermal_Image/Thermal-Image.PDF)|IR Image interpretation for quantifying shallow flows<br>|"
   ]
  },
  {
   "cell_type": "code",
   "execution_count": null,
   "metadata": {},
   "outputs": [],
   "source": []
  }
 ],
 "metadata": {
  "kernelspec": {
   "display_name": "Python 3",
   "language": "python",
   "name": "python3"
  },
  "language_info": {
   "codemirror_mode": {
    "name": "ipython",
    "version": 3
   },
   "file_extension": ".py",
   "mimetype": "text/x-python",
   "name": "python",
   "nbconvert_exporter": "python",
   "pygments_lexer": "ipython3",
   "version": "3.8.10"
  }
 },
 "nbformat": 4,
 "nbformat_minor": 4
}
