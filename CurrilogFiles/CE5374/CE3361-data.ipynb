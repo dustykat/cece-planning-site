{
 "cells": [
  {
   "cell_type": "markdown",
   "metadata": {},
   "source": [
    "# Worksheet for CE 3361 Currilog Entry\n",
    "\n",
    "Look up CIP codes here http://www.txhighereddata.org/Interactive/CIP/\n",
    "\n",
    "|Item|Value|\n",
    "|:---|:---|\n",
    "|Course Prefix| CE |\n",
    "|Old Course Number| 4361 |\n",
    "|New Course Number| 3361 |\n",
    "|Change Type| Change course from senior level to junior level course number |\n",
    "|Current Title| Transportation  Engineering  |\n",
    "|Change Title| Transportation  Engineering  |\n",
    "|Current Description|  Transportation modes;  railway  and  airport  runway  design;  basic  design  and  analysis  concepts of highway systems; transportation planning; traffic engineer-ing; intersection control; geometrics; pavement engineering.  |\n",
    "|Change Description| Transportation modes;  railway and airport runway design;basic design and analysis concepts of highway systems; transportation planning; traffic engineering; intersection control; geometrics; pavement engineering.  |\n",
    "|Credit Hours| 3 |\n",
    "|Cip Code| 14.0804.0006  |\n",
    "|Academic Justification| Course relocated in curriculum so capstone course is not concurrent and students have design exposure in transportation for senior design project |\n",
    "|Resource Justification| current teaching resources are to be used, number change only |\n",
    "\n",
    "# Attachments\n",
    "\n",
    "Syllabus Template at http://54.243.252.9/cece-dev-databases/CurrilogFiles/CE4361-to-CE3361/CE3361-template-syllabus.pdf"
   ]
  },
  {
   "cell_type": "code",
   "execution_count": null,
   "metadata": {},
   "outputs": [],
   "source": []
  }
 ],
 "metadata": {
  "kernelspec": {
   "display_name": "Python 3",
   "language": "python",
   "name": "python3"
  },
  "language_info": {
   "codemirror_mode": {
    "name": "ipython",
    "version": 3
   },
   "file_extension": ".py",
   "mimetype": "text/x-python",
   "name": "python",
   "nbconvert_exporter": "python",
   "pygments_lexer": "ipython3",
   "version": "3.8.10"
  }
 },
 "nbformat": 4,
 "nbformat_minor": 4
}
