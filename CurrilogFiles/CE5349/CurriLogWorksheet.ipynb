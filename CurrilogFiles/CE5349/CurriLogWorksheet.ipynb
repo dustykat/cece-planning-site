{
 "cells": [
  {
   "cell_type": "code",
   "execution_count": null,
   "metadata": {},
   "outputs": [],
   "source": [
    "%%html\n",
    "<!--Script block to left align Markdown Tables-->\n",
    "<style>\n",
    "  table {margin-left: 0 !important;}\n",
    "</style>"
   ]
  },
  {
   "cell_type": "code",
   "execution_count": 1,
   "metadata": {},
   "outputs": [
    {
     "name": "stdout",
     "output_type": "stream",
     "text": [
      "/home/orion/CurrilogFiles/CE5349\n"
     ]
    }
   ],
   "source": [
    "! pwd\n"
   ]
  },
  {
   "cell_type": "markdown",
   "metadata": {},
   "source": [
    "# Worksheet for Currilog Entry\n",
    "Below generates markdown formatted minimal Currilog Entry\n",
    "\n",
    "Look up CIP codes here http://www.txhighereddata.org/Interactive/CIP/"
   ]
  },
  {
   "cell_type": "code",
   "execution_count": 2,
   "metadata": {},
   "outputs": [
    {
     "name": "stdin",
     "output_type": "stream",
     "text": [
      "course prefix CE\n",
      "Old Course Number none\n",
      "New Course Number 5349\n",
      "Change Type: new course, change number, etc. new course\n",
      "current title none\n",
      "change title Performance-Based Engineering\n",
      "current description none\n",
      "change description Introduction to performance-based engineering to aid decision making. Performance-based engineering estimates the hazard at the site and system of interest, in order to assess system response, predict damage extent, and evaluate system performance in terms of expected loss or other metrics.  Introduction to the U.S. Hazus database and GIS tools.\n",
      "credit hours 3\n",
      "cip code 14.0803.0006\n",
      "academic justify TBD\n",
      "resource justify Uses current faculty; no new faculty/staff required\n"
     ]
    }
   ],
   "source": [
    "course_prefix = str(input('course prefix'))\n",
    "old_course_number = str(input('Old Course Number'))\n",
    "new_course_number = str(input('New Course Number'))\n",
    "change_type = str(input('Change Type: new course, change number, etc.'))\n",
    "current_title = str(input('current title'))\n",
    "change_title = str(input('change title'))\n",
    "current_description = str(input('current description'))\n",
    "change_description = str(input('change description'))\n",
    "credit_hours = str(input('credit hours'))\n",
    "cip_code = str(input('cip code'))\n",
    "academic_justification = str(input('academic justify'))\n",
    "resource_justification = str(input('resource justify'))"
   ]
  },
  {
   "cell_type": "code",
   "execution_count": 3,
   "metadata": {},
   "outputs": [
    {
     "name": "stdout",
     "output_type": "stream",
     "text": [
      "|Item|Value|\n",
      "|---|---|\n",
      "|Course Prefix| CE |\n",
      "|Old Course Number| none |\n",
      "|New Course Number| 5349 |\n",
      "|Change Type| new course |\n",
      "|Current Title| none |\n",
      "|Change Title| Performance-Based Engineering |\n",
      "|Current Description| none |\n",
      "|Change Description| Introduction to performance-based engineering to aid decision making. Performance-based engineering estimates the hazard at the site and system of interest, in order to assess system response, predict damage extent, and evaluate system performance in terms of expected loss or other metrics.  Introduction to the U.S. Hazus database and GIS tools. |\n",
      "|Credit Hours| 3 |\n",
      "|Cip Code| 14.0803.0006 |\n",
      "|Academic Justification| TBD |\n",
      "|Resource Justification| Uses current faculty; no new faculty/staff required |\n"
     ]
    }
   ],
   "source": [
    "print('|Item|Value|')\n",
    "print('|---|---|')\n",
    "print('|Course Prefix|',course_prefix,'|')\n",
    "print('|Old Course Number|',old_course_number,'|')\n",
    "print('|New Course Number|',new_course_number,'|')\n",
    "print('|Change Type|',change_type,'|')\n",
    "print('|Current Title|',current_title,'|')\n",
    "print('|Change Title|',change_title,'|')\n",
    "print('|Current Description|',current_description,'|')\n",
    "print('|Change Description|',change_description,'|')\n",
    "print('|Credit Hours|',credit_hours,'|')\n",
    "print('|Cip Code|',cip_code,'|')\n",
    "print('|Academic Justification|',academic_justification,'|')\n",
    "print('|Resource Justification|',resource_justification,'|')"
   ]
  },
  {
   "cell_type": "markdown",
   "metadata": {},
   "source": [
    "|Item|Value|\n",
    "|---|---|\n",
    "|Course Prefix| CE |\n",
    "|Old Course Number| 4361 |\n",
    "|New Course Number| 3361 |\n",
    "|Change Type| Change course from senior level to junior level course number |\n",
    "|Current Title| Transportation  Engineering  |\n",
    "|Change Title| Transportation  Engineering  |\n",
    "|Current Description|  Transportation modes;  railway  and  airport  runway  design;  basic  design  and  analysis  concepts of highway systems; transportation planning; traffic engineer-ing; intersection control; geometrics; pavement engineering.  |\n",
    "|Change Description| Transportation modes;  railway and airport runway design;basic design and analysis concepts of highway systems; transportation planning; traffic engineering; intersection control; geometrics; pavement engineering.  |\n",
    "|Credit Hours| 3 |\n",
    "|Cip Code| 14.0804.0006  |\n",
    "|Academic Justification| Course relocated in curriculum so capstone course is not concurrent and students have design exposure in transportation for senior design project |\n",
    "|Resource Justification| current teaching resources are to be used, number change only |"
   ]
  },
  {
   "cell_type": "code",
   "execution_count": null,
   "metadata": {},
   "outputs": [],
   "source": []
  }
 ],
 "metadata": {
  "kernelspec": {
   "display_name": "Python 3",
   "language": "python",
   "name": "python3"
  },
  "language_info": {
   "codemirror_mode": {
    "name": "ipython",
    "version": 3
   },
   "file_extension": ".py",
   "mimetype": "text/x-python",
   "name": "python",
   "nbconvert_exporter": "python",
   "pygments_lexer": "ipython3",
   "version": "3.6.9"
  }
 },
 "nbformat": 4,
 "nbformat_minor": 4
}
