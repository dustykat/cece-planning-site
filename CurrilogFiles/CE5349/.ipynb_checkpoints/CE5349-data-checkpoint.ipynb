{
 "cells": [
  {
   "cell_type": "code",
   "execution_count": 3,
   "metadata": {
    "jupyter": {
     "source_hidden": true
    }
   },
   "outputs": [
    {
     "data": {
      "text/html": [
       "<!--Script block to left align Markdown Tables-->\n",
       "<style>\n",
       "  table {margin-left: 0 !important;}\n",
       "</style>\n"
      ],
      "text/plain": [
       "<IPython.core.display.HTML object>"
      ]
     },
     "metadata": {},
     "output_type": "display_data"
    }
   ],
   "source": [
    "%%html\n",
    "<!--Script block to left align Markdown Tables-->\n",
    "<style>\n",
    "  table {margin-left: 0 !important;}\n",
    "</style>"
   ]
  },
  {
   "cell_type": "markdown",
   "metadata": {},
   "source": [
    "# Worksheet for CE 5341 Currilog Entry\n",
    "\n",
    "Look up CIP codes here http://www.txhighereddata.org/Interactive/CIP/\n",
    "\n",
    "|Item|Value|\n",
    "|:---|:---|\n",
    "|Course Prefix| CE |\n",
    "|Old Course Number| none |\n",
    "|New Course Number| 5349 |\n",
    "|Change Type| new course |\n",
    "|Current Title| none |\n",
    "|Change Title| Performance-Based Engineering |\n",
    "|Current Description| none |\n",
    "|Change Description| Introduction to performance-based engineering to aid decision making. Performance-based engineering estimates the hazard at the site and system of interest, in order to assess system response, predict damage extent, and evaluate system performance in terms of expected loss or other metrics.  Introduction to the U.S. Hazus database and GIS tools. |\n",
    "|Credit Hours| 3 |\n",
    "|Cip Code| 14.0803.0006 |\n",
    "|Academic Justification| Course provides graduate students with a foundation in performance based engineering including applications. Intended as follow-on course to the core course CE 5341 |\n",
    "|Resource Justification| Uses current faculty; no new faculty/staff required |\n",
    "\n",
    "\n",
    "# Attachments\n",
    "\n",
    "Syllabus Template at http://54.243.252.9/cece-dev-databases/CurrilogFiles/CE5349/ce-5349-syllabus-draft.pdf\n",
    "\n",
    "File Repository: http://54.243.252.9/cece-dev-databases/CurrilogFiles/CE5349/"
   ]
  },
  {
   "cell_type": "markdown",
   "metadata": {},
   "source": [
    "Performance-based engineering and decision making; Hazard and damage prediction; System performance - expected loss and other metrics; Using Hazus database and GIS tools."
   ]
  }
 ],
 "metadata": {
  "kernelspec": {
   "display_name": "Python 3",
   "language": "python",
   "name": "python3"
  },
  "language_info": {
   "codemirror_mode": {
    "name": "ipython",
    "version": 3
   },
   "file_extension": ".py",
   "mimetype": "text/x-python",
   "name": "python",
   "nbconvert_exporter": "python",
   "pygments_lexer": "ipython3",
   "version": "3.6.9"
  }
 },
 "nbformat": 4,
 "nbformat_minor": 4
}
