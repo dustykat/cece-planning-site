{
 "cells": [
  {
   "cell_type": "markdown",
   "metadata": {},
   "source": [
    "# Worksheet for CE 3361 Currilog Entry\n",
    "\n",
    "Look up CIP codes here http://www.txhighereddata.org/Interactive/CIP/\n",
    "\n",
    "|Item|Value|\n",
    "|:---|:---|\n",
    "|Course Prefix| CE |\n",
    "|Old Course Number| 5325 |\n",
    "|New Course Number| 5325 |\n",
    "|Change Type| course name, level? |\n",
    "|Current Title| none |\n",
    "|Change Title| Deep Foundations |\n",
    "|Current Description| none |\n",
    "|Change Description| tbd |\n",
    "|Credit Hours| 3 |\n",
    "|Cip Code| 14.0803.0006 |\n",
    "|Academic Justification| tbd |\n",
    "|Resource Justification| Use current faculty and staff. No new resources requested. |\n",
    "# Attachments\n",
    "\n",
    "Syllabus Template at :\n",
    "\n",
    "File Repository: http://54.243.252.9/cece-dev-databases/CurrilogFiles/CE5325/"
   ]
  },
  {
   "cell_type": "code",
   "execution_count": null,
   "metadata": {},
   "outputs": [],
   "source": []
  }
 ],
 "metadata": {
  "kernelspec": {
   "display_name": "Python 3",
   "language": "python",
   "name": "python3"
  },
  "language_info": {
   "codemirror_mode": {
    "name": "ipython",
    "version": 3
   },
   "file_extension": ".py",
   "mimetype": "text/x-python",
   "name": "python",
   "nbconvert_exporter": "python",
   "pygments_lexer": "ipython3",
   "version": "3.6.9"
  }
 },
 "nbformat": 4,
 "nbformat_minor": 4
}
