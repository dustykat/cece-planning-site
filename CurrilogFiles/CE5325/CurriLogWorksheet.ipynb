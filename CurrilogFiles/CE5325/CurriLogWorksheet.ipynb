{
 "cells": [
  {
   "cell_type": "code",
   "execution_count": 1,
   "metadata": {},
   "outputs": [
    {
     "data": {
      "text/html": [
       "<!--Script block to left align Markdown Tables-->\n",
       "<style>\n",
       "  table {margin-left: 0 !important;}\n",
       "</style>\n"
      ],
      "text/plain": [
       "<IPython.core.display.HTML object>"
      ]
     },
     "metadata": {},
     "output_type": "display_data"
    }
   ],
   "source": [
    "%%html\n",
    "<!--Script block to left align Markdown Tables-->\n",
    "<style>\n",
    "  table {margin-left: 0 !important;}\n",
    "</style>"
   ]
  },
  {
   "cell_type": "markdown",
   "metadata": {},
   "source": [
    "# Worksheet for Currilog Entry\n",
    "Below generates markdown formatted minimal Currilog Entry\n",
    "\n",
    "Look up CIP codes here http://www.txhighereddata.org/Interactive/CIP/"
   ]
  },
  {
   "cell_type": "code",
   "execution_count": 1,
   "metadata": {},
   "outputs": [
    {
     "name": "stdin",
     "output_type": "stream",
     "text": [
      "course prefix CE\n",
      "Old Course Number 5325\n",
      "New Course Number 5325\n",
      "Change Type: new course, change number, etc. course name, level?\n",
      "current title none\n",
      "change title Deep Foundations\n",
      "current description none\n",
      "change description tbd\n",
      "credit hours 3\n",
      "cip code 14.0803.0006\n",
      "academic justify tbd\n",
      "resource justify Use current faculty and staff. No new resources requested.\n"
     ]
    }
   ],
   "source": [
    "course_prefix = str(input('course prefix'))\n",
    "old_course_number = str(input('Old Course Number'))\n",
    "new_course_number = str(input('New Course Number'))\n",
    "change_type = str(input('Change Type: new course, change number, etc.'))\n",
    "current_title = str(input('current title'))\n",
    "change_title = str(input('change title'))\n",
    "current_description = str(input('current description'))\n",
    "change_description = str(input('change description'))\n",
    "credit_hours = str(input('credit hours'))\n",
    "cip_code = str(input('cip code'))\n",
    "academic_justification = str(input('academic justify'))\n",
    "resource_justification = str(input('resource justify'))"
   ]
  },
  {
   "cell_type": "code",
   "execution_count": 2,
   "metadata": {},
   "outputs": [
    {
     "name": "stdout",
     "output_type": "stream",
     "text": [
      "|Item|Value|\n",
      "|:---|:---|\n",
      "|Course Prefix| CE |\n",
      "|Old Course Number| 5325 |\n",
      "|New Course Number| 5325 |\n",
      "|Change Type| course name, level? |\n",
      "|Current Title| none |\n",
      "|Change Title| Deep Foundations |\n",
      "|Current Description| none |\n",
      "|Change Description| tbd |\n",
      "|Credit Hours| 3 |\n",
      "|Cip Code| 14.0803.0006 |\n",
      "|Academic Justification| tbd |\n",
      "|Resource Justification| Use current faculty and staff. No new resources requested. |\n"
     ]
    }
   ],
   "source": [
    "print('|Item|Value|')\n",
    "print('|:---|:---|')\n",
    "print('|Course Prefix|',course_prefix,'|')\n",
    "print('|Old Course Number|',old_course_number,'|')\n",
    "print('|New Course Number|',new_course_number,'|')\n",
    "print('|Change Type|',change_type,'|')\n",
    "print('|Current Title|',current_title,'|')\n",
    "print('|Change Title|',change_title,'|')\n",
    "print('|Current Description|',current_description,'|')\n",
    "print('|Change Description|',change_description,'|')\n",
    "print('|Credit Hours|',credit_hours,'|')\n",
    "print('|Cip Code|',cip_code,'|')\n",
    "print('|Academic Justification|',academic_justification,'|')\n",
    "print('|Resource Justification|',resource_justification,'|')"
   ]
  },
  {
   "cell_type": "markdown",
   "metadata": {},
   "source": [
    "|Item|Value|\n",
    "|:---|:---|\n",
    "|Course Prefix| CE |\n",
    "|Old Course Number| none |\n",
    "|New Course Number| 5350 |\n",
    "|Change Type| new course |\n",
    "|Current Title| none |\n",
    "|Change Title| Civil Engineering Material Forensic Investigations |\n",
    "|Current Description| tbd |\n",
    "|Change Description| tbd |\n",
    "|Credit Hours| 3 |\n",
    "|Cip Code| 14.0803.0006 |\n",
    "|Academic Justification| tbd |\n",
    "|Resource Justification| Uses existing staff and faculty; no additional resources requested |\n"
   ]
  },
  {
   "cell_type": "code",
   "execution_count": null,
   "metadata": {},
   "outputs": [],
   "source": []
  }
 ],
 "metadata": {
  "kernelspec": {
   "display_name": "Python 3",
   "language": "python",
   "name": "python3"
  },
  "language_info": {
   "codemirror_mode": {
    "name": "ipython",
    "version": 3
   },
   "file_extension": ".py",
   "mimetype": "text/x-python",
   "name": "python",
   "nbconvert_exporter": "python",
   "pygments_lexer": "ipython3",
   "version": "3.6.9"
  }
 },
 "nbformat": 4,
 "nbformat_minor": 4
}
