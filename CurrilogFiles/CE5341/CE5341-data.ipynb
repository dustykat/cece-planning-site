{
 "cells": [
  {
   "cell_type": "markdown",
   "metadata": {},
   "source": [
    "# Worksheet for CE 5341 Currilog Entry\n",
    "\n",
    "Look up CIP codes here http://www.txhighereddata.org/Interactive/CIP/\n",
    "\n",
    "|Item|Value|\n",
    "|:---|:---|\n",
    "|Course Prefix| CE |\n",
    "|Old Course Number| none |\n",
    "|New Course Number| 5341 |\n",
    "|Change Type| new course |\n",
    "|Current Title| Structural Reliability |\n",
    "|Change Title| Structural Reliability |\n",
    "|Current Description| Concepts and applications of reliability theory. Computational methods for first- and second-order estimates of failure probabilities; sensitivities to parameter values;  measures of importance of the random variables associated with an engineered structural system. Examination of advantages and disadvantages of various analytical reliability methods such as Monte Carlo simulation, and machine learning methods. |\n",
    "|Change Description| tbd |\n",
    "|Credit Hours| 3 |\n",
    "|Cip Code| 14.0803.0006  |\n",
    "|Academic Justification| Course provides graduate students with a foundation in structural reliability techniques needed in engineering including applications. The course is part of the core requirements for research graduate students in civil engineering.|\n",
    "|Resource Justification| No new resources other than assignment of a faculty member to the course |\n",
    "\n",
    "\n",
    "# Attachments\n",
    "\n",
    "Syllabus Template at http://54.243.252.9/cece-dev-databases/CurrilogFiles/CE5341/ce-5341-syllabus-draft.pdf\n",
    "\n",
    "File Repository: http://54.243.252.9/cece-dev-databases/CurrilogFiles/CE5341/"
   ]
  },
  {
   "cell_type": "markdown",
   "metadata": {},
   "source": [
    "Reliability theory and application;failure probability estimation; parameter sensitivity analysis; measures of variable importance; simulation and machine learning methods. "
   ]
  },
  {
   "cell_type": "code",
   "execution_count": null,
   "metadata": {},
   "outputs": [],
   "source": []
  }
 ],
 "metadata": {
  "kernelspec": {
   "display_name": "Python 3",
   "language": "python",
   "name": "python3"
  },
  "language_info": {
   "codemirror_mode": {
    "name": "ipython",
    "version": 3
   },
   "file_extension": ".py",
   "mimetype": "text/x-python",
   "name": "python",
   "nbconvert_exporter": "python",
   "pygments_lexer": "ipython3",
   "version": "3.6.9"
  }
 },
 "nbformat": 4,
 "nbformat_minor": 4
}
