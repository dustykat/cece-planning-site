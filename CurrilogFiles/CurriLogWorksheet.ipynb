{
 "cells": [
  {
   "cell_type": "code",
   "execution_count": 1,
   "metadata": {},
   "outputs": [
    {
     "data": {
      "text/html": [
       "<!--Script block to left align Markdown Tables-->\n",
       "<style>\n",
       "  table {margin-left: 0 !important;}\n",
       "</style>\n"
      ],
      "text/plain": [
       "<IPython.core.display.HTML object>"
      ]
     },
     "metadata": {},
     "output_type": "display_data"
    }
   ],
   "source": [
    "%%html\n",
    "<!--Script block to left align Markdown Tables-->\n",
    "<style>\n",
    "  table {margin-left: 0 !important;}\n",
    "</style>"
   ]
  },
  {
   "cell_type": "markdown",
   "metadata": {},
   "source": [
    "# Worksheet for Currilog Entry\n",
    "Below generates markdown formatted minimal Currilog Entry\n",
    "\n",
    "Look up CIP codes here http://www.txhighereddata.org/Interactive/CIP/"
   ]
  },
  {
   "cell_type": "code",
   "execution_count": 6,
   "metadata": {},
   "outputs": [
    {
     "name": "stdin",
     "output_type": "stream",
     "text": [
      "course prefix CE\n",
      "Old Course Number 4361\n",
      "New Course Number 3361\n",
      "Change Type: new course, change number, etc. Change course from senior level to junior level course number\n",
      "current title Transportation  Engineering \n",
      "change title Transportation  Engineering \n",
      "current description  Transportation modes;  railway  and  airport  runway  design;  basic  design  and  analysis  concepts of highway systems; transportation planning; traffic engineer-ing; intersection control; geometrics; pavement engineering. \n",
      "change description Transportation modes;  railway and airport runway design;basic design and analysis concepts of highway systems; transportation planning; traffic engineering; intersection control; geometrics; pavement engineering. \n",
      "credit hours 3\n",
      "cip code 14.0804.0006 \n",
      "academic justify Course relocated in curriculum so capstone course is not concurrent and students have design exposure in transportation for senior design project\n",
      "resource justify current teaching resources are to be used, number change only\n"
     ]
    }
   ],
   "source": [
    "course_prefix = str(input('course prefix'))\n",
    "old_course_number = str(input('Old Course Number'))\n",
    "new_course_number = str(input('New Course Number'))\n",
    "change_type = str(input('Change Type: new course, change number, etc.'))\n",
    "current_title = str(input('current title'))\n",
    "change_title = str(input('change title'))\n",
    "current_description = str(input('current description'))\n",
    "change_description = str(input('change description'))\n",
    "credit_hours = str(input('credit hours'))\n",
    "cip_code = str(input('cip code'))\n",
    "academic_justification = str(input('academic justify'))\n",
    "resource_justification = str(input('resource justify'))"
   ]
  },
  {
   "cell_type": "code",
   "execution_count": 7,
   "metadata": {},
   "outputs": [
    {
     "name": "stdout",
     "output_type": "stream",
     "text": [
      "|Item|Value|\n",
      "|---|---|\n",
      "|Course Prefix| CE |\n",
      "|Old Course Number| 4361 |\n",
      "|New Course Number| 3361 |\n",
      "|Change Type| Change course from senior level to junior level course number |\n",
      "|Current Title| Transportation  Engineering  |\n",
      "|Change Title| Transportation  Engineering  |\n",
      "|Current Description|  Transportation modes;  railway  and  airport  runway  design;  basic  design  and  analysis  concepts of highway systems; transportation planning; traffic engineer-ing; intersection control; geometrics; pavement engineering.  |\n",
      "|Change Description| Transportation modes;  railway and airport runway design;basic design and analysis concepts of highway systems; transportation planning; traffic engineering; intersection control; geometrics; pavement engineering.  |\n",
      "|Credit Hours| 3 |\n",
      "|Cip Code| 14.0804.0006  |\n",
      "|Academic Justification| Course relocated in curriculum so capstone course is not concurrent and students have design exposure in transportation for senior design project |\n",
      "|Resource Justification| current teaching resources are to be used, number change only |\n"
     ]
    }
   ],
   "source": [
    "print('|Item|Value|')\n",
    "print('|---|---|')\n",
    "print('|Course Prefix|',course_prefix,'|')\n",
    "print('|Old Course Number|',old_course_number,'|')\n",
    "print('|New Course Number|',new_course_number,'|')\n",
    "print('|Change Type|',change_type,'|')\n",
    "print('|Current Title|',current_title,'|')\n",
    "print('|Change Title|',change_title,'|')\n",
    "print('|Current Description|',current_description,'|')\n",
    "print('|Change Description|',change_description,'|')\n",
    "print('|Credit Hours|',credit_hours,'|')\n",
    "print('|Cip Code|',cip_code,'|')\n",
    "print('|Academic Justification|',academic_justification,'|')\n",
    "print('|Resource Justification|',resource_justification,'|')"
   ]
  },
  {
   "cell_type": "markdown",
   "metadata": {},
   "source": [
    "|Item|Value|\n",
    "|---|---|\n",
    "|Course Prefix| CE |\n",
    "|Old Course Number| 4361 |\n",
    "|New Course Number| 3361 |\n",
    "|Change Type| Change course from senior level to junior level course number |\n",
    "|Current Title| Transportation  Engineering  |\n",
    "|Change Title| Transportation  Engineering  |\n",
    "|Current Description|  Transportation modes;  railway  and  airport  runway  design;  basic  design  and  analysis  concepts of highway systems; transportation planning; traffic engineer-ing; intersection control; geometrics; pavement engineering.  |\n",
    "|Change Description| Transportation modes;  railway and airport runway design;basic design and analysis concepts of highway systems; transportation planning; traffic engineering; intersection control; geometrics; pavement engineering.  |\n",
    "|Credit Hours| 3 |\n",
    "|Cip Code| 14.0804.0006  |\n",
    "|Academic Justification| Course relocated in curriculum so capstone course is not concurrent and students have design exposure in transportation for senior design project |\n",
    "|Resource Justification| current teaching resources are to be used, number change only |"
   ]
  },
  {
   "cell_type": "code",
   "execution_count": null,
   "metadata": {},
   "outputs": [],
   "source": []
  }
 ],
 "metadata": {
  "kernelspec": {
   "display_name": "Python 3",
   "language": "python",
   "name": "python3"
  },
  "language_info": {
   "codemirror_mode": {
    "name": "ipython",
    "version": 3
   },
   "file_extension": ".py",
   "mimetype": "text/x-python",
   "name": "python",
   "nbconvert_exporter": "python",
   "pygments_lexer": "ipython3",
   "version": "3.8.10"
  }
 },
 "nbformat": 4,
 "nbformat_minor": 4
}
