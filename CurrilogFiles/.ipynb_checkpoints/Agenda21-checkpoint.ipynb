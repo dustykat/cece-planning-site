{
 "cells": [
  {
   "cell_type": "code",
   "execution_count": null,
   "metadata": {},
   "outputs": [],
   "source": [
    "%%html\n",
    "<!--Script block to left align Markdown Tables-->\n",
    "<style>\n",
    "  table {margin-left: 0 !important;}\n",
    "</style>"
   ]
  },
  {
   "cell_type": "markdown",
   "metadata": {},
   "source": [
    "# Agenda for 23 Sep 2020 Curriculum Comittee Meeting\n",
    "\n",
    "\n",
    "- Curriculog Updates\n",
    "1. Build the data table and decide course numbers for new courses to fully catalog, stick with our block numbering system if possible\n",
    "    1. Raw tables for CE,ENVE,CONE built.  Example for CE in today's workbook file http://54.243.252.9/cece-dev-databases/CurrilogFiles/CurrilogWorkbook.html\n",
    "    2. Prepare any supporting documents (usually just syllabi) - placeholders for syllabus links in data table, will store NEW syllabi as needed (existing easy enough to get from Digital measures)\n",
    "\n",
    "- Common first year update\n",
    "1. Review courses identified for downstream insertion of CT,BID,ST theme problems\n",
    "    1. Will show existing .xlsx file\n",
    "    2. Will build Raw tables built, to get away from .xlsx/.xml (vendor lock-in) format\n",
    "2. Demonstrate some in-progress CT examples\n",
    "\n",
    "- Digital Infrastructure / Data Management \n",
    "1. Use TOSM supported infrastructure for data with personally identifiable information (A state and federal requirement)(i.e. Banner, Blackboard, etc. No-change)\n",
    "2. For this comittee, build an OwnCloud server on AWS (like Dropbox, but truly free - limited by physical hardware, not subscription tier) Our needs are pretty small, and AWS scales way cheaper than Dropbox; Also it has elements of Git built-in, so there is distributed back-up, literally need to lose all physical machines at once for data loss. I think I can mount a filesystem and make automated backups as native files (OwnCloud uses a maria database to store files). \n",
    "    1. Need some guidance on what to store for ABET\n",
    "    2. Also how to structure, my first thought is strictly by course, then semester."
   ]
  },
  {
   "cell_type": "code",
   "execution_count": null,
   "metadata": {},
   "outputs": [],
   "source": []
  },
  {
   "cell_type": "code",
   "execution_count": null,
   "metadata": {},
   "outputs": [],
   "source": []
  },
  {
   "cell_type": "code",
   "execution_count": null,
   "metadata": {},
   "outputs": [],
   "source": []
  },
  {
   "cell_type": "code",
   "execution_count": null,
   "metadata": {},
   "outputs": [],
   "source": []
  },
  {
   "cell_type": "code",
   "execution_count": null,
   "metadata": {},
   "outputs": [],
   "source": []
  },
  {
   "cell_type": "code",
   "execution_count": null,
   "metadata": {},
   "outputs": [],
   "source": []
  },
  {
   "cell_type": "code",
   "execution_count": null,
   "metadata": {},
   "outputs": [],
   "source": []
  },
  {
   "cell_type": "code",
   "execution_count": null,
   "metadata": {},
   "outputs": [],
   "source": []
  }
 ],
 "metadata": {
  "kernelspec": {
   "display_name": "Python 3",
   "language": "python",
   "name": "python3"
  },
  "language_info": {
   "codemirror_mode": {
    "name": "ipython",
    "version": 3
   },
   "file_extension": ".py",
   "mimetype": "text/x-python",
   "name": "python",
   "nbconvert_exporter": "python",
   "pygments_lexer": "ipython3",
   "version": "3.6.9"
  }
 },
 "nbformat": 4,
 "nbformat_minor": 4
}
