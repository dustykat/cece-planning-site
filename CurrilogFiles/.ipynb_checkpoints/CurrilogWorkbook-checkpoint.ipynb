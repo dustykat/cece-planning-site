{
 "cells": [
  {
   "cell_type": "code",
   "execution_count": 1,
   "metadata": {},
   "outputs": [
    {
     "data": {
      "text/html": [
       "<!--Script block to left align Markdown Tables-->\n",
       "<style>\n",
       "  table {margin-left: 0 !important;}\n",
       "</style>\n"
      ],
      "text/plain": [
       "<IPython.core.display.HTML object>"
      ]
     },
     "metadata": {},
     "output_type": "display_data"
    }
   ],
   "source": [
    "%%html\n",
    "<!--Script block to left align Markdown Tables-->\n",
    "<style>\n",
    "  table {margin-left: 0 !important;}\n",
    "</style>"
   ]
  },
  {
   "cell_type": "code",
   "execution_count": 2,
   "metadata": {},
   "outputs": [],
   "source": [
    "# restructure course lists for easy cut and paste this document\n",
    "import pandas as pd #Importing Pandas library as \"pd\"\n",
    "readtextfile = pd.read_csv('../CE-current-courses/CECourseNumberList-Copy1.txt', header=None) #Open Base File\n",
    "readtextfile.columns = ['Course Number','Course Title'] # Column Names\n",
    "readtextfile['Remarks (ToDo)']='to do' # Add a column\n",
    "readtextfile['Syllabus (Links)']='links' # Add a column\n",
    "readtextfile=readtextfile.fillna(' ') # Fix NA, NaN put blank in-place fill\n",
    "# readtextfile # activate to view file contents\n",
    "readtextfile.to_csv('course-list.md.txt', sep = '|',index = False)"
   ]
  },
  {
   "cell_type": "markdown",
   "metadata": {},
   "source": [
    "# Curriculum Meetings\n",
    "This is a working document, course list files are copied here.\n",
    "Changes here are not reflected in the base file.\n",
    "\n",
    "## Last Meeting:\n",
    "\n",
    "### Undergraduate:\n",
    "- Review and remove any truly redundant courses\n",
    "- Equivalency of rigor (context missing in my notes, i may not have this transcribed correctly)\n",
    "- Can combine into large lecture (beyond rule of 49), but discussion sections still adhere to 49 rule?\n",
    "\n",
    "1. Move selected 43XX to 33XX **ASAP**\n",
    "    a. 4361 => 3361 (transportation into junior year level)\n",
    "\n",
    "- Do we need courses repeated every\n",
    "- CONE/CE redundant courses\n",
    "- 2 Long semester offerings of selected courses (so students dont get left behind)?\n",
    "    a. Concrete\n",
    "    b. Water Systems\n",
    "    c. Transportation\n",
    "    d. etc ... All CE required are curently ofered every semester\n",
    "    \n",
    "\n",
    "### Graduate:\n",
    "\n",
    "1. Which ones to upgrade (UG to Grad)\n",
    "2. Which ones can be online?\n",
    "\n",
    "### 23 Sep 2020 Discussion\n",
    "\n",
    "1. Need for some standardization on prelim exam\n",
    "2. Defer for future meeting, but important to address\n",
    "3. Concern that advanced classes have to have a review component\n",
    "4. Teaching frequency, esp. when we implement 6000-series \n"
   ]
  },
  {
   "cell_type": "markdown",
   "metadata": {},
   "source": [
    "## Structural Engineering\n",
    "\n",
    "- 5341??\n",
    "- 5349 Probabilistic?  (Cannot read my own handwriting)\n",
    "  reliability\n",
    "\n",
    "|Course Number|Course Title|Remarks (ToDo)|Syllabus (Links)|\n",
    "|:---|---|---|---|\n",
    "|5340|Advanced Structural Analysis I ||\n",
    "|5341|Structural Reliability| Curriclog Entry Done|  Uploaded |\n",
    "|5342|Advanced Design of Steel Structures ||\n",
    "|5343|Advanced Reinforced Concrete Design ||\n",
    "|5344|Design of Steel Structures ||\n",
    "|5345|||\n",
    "|5346|Structural Dynamics I ||\n",
    "|5347|Structural Dynamics II ||\n",
    "|5348|Wind Engineering ||\n",
    "|5349|Performance Based Engineering|Need Curriclog Entry (Ting)|\n",
    "\n",
    "|Course Number|Course Title|Remarks (ToDo)|Syllabus (Links)|\n",
    "|:---|---|---|---|\n",
    "|5310|Numerical Methods in Engineering | CORE|\n",
    "|5315|Probabilistic Methods for Civil Engineers ||\n",
    "|5318|Finite Element Methids in Continuum Mechanics | CORE|\n",
    "|5311|Advanced Mechanics of Solids |CORE|links\n",
    "|5319|Machine Learning for Civil Engineers |to do|links"
   ]
  },
  {
   "cell_type": "markdown",
   "metadata": {},
   "source": [
    "## Geotechnical Engineering\n",
    "\n",
    "- 5323 Shallow Foundations ??\n",
    "- 5324 Deep Foundations ??\n",
    "\n",
    "|Course Number|Course Title|Remarks (ToDo)|Syllabus (Links)|\n",
    "|:---|---|---|---|\n",
    "|5320\n",
    "|5321|Advanced Soil Engineering| |\n",
    "|5322|Geotechnical Site Characterization ||\n",
    "|5323|Advanced Foundation Engineering | online capable|\n",
    "|5324|Geotechnical Practice for Expansive Soils ||\n",
    "|5325|Deep Foundations|Need Curriclog Update - possible 6000 online capable||\n",
    "|5326|Stability Analysis and Design of Slopes and Embankments|online capable|\n",
    "|5327|||\n",
    "|5328|Design and Analysis of Earth Retaining Structures |online capable|\n",
    "|5329|Advanced Design of Bridge Structures||"
   ]
  },
  {
   "cell_type": "markdown",
   "metadata": {},
   "source": [
    "## Materials Engineering\n",
    "\n",
    "- airport design (maybe move to transpo section)\n",
    "- forensic engineering (make to formal course, Won); choose title carefully MECE conflict potential\n",
    "\n",
    "|Course Number|Course Title|Remarks (ToDo)|Syllabus (Links)|\n",
    "|:---|---|---|---|\n",
    "|5350|Forensic | needs curriculog| \n",
    "|5351|Advanced Pavement Materials | | \n",
    "|5352|Advanced Flexible Pavement Design | | \n",
    "|5353| | | \n",
    "|5354|Advanced Concrete Materials | | \n",
    "|5355|Advanced Rigid Pavement Design | | \n",
    "|5356|Sustainable Material Systems and Engineering Design | | "
   ]
  },
  {
   "cell_type": "markdown",
   "metadata": {},
   "source": [
    "## Water Resources Engineering\n",
    "\n",
    "|Course Number|Course Title|Remarks (ToDo)|Syllabus (Links)|\n",
    "|:---|---|---|---|\n",
    "|5360|Open Channel Hydraulics | CORE online capable| \n",
    "|5361|Surface Water Hydrology | CORE online capable| \n",
    "|5362|Surface Water Modeling | online capable| \n",
    "|5363|Groundwater Hydrology | CORE online capable| \n",
    "|5364|Groundwater Transport Phenomena | online capable| \n",
    "|5365| | | \n",
    "|5366|Water Resources Management |CORE online capable | \n",
    "|5367| | | \n",
    "|5368|Surface Water Quality Modeling | | \n",
    "|5369| | | "
   ]
  },
  {
   "cell_type": "markdown",
   "metadata": {},
   "source": [
    "## Transportation Engineering\n",
    "\n",
    "\n",
    "|Course Number|Course Title|Remarks (ToDo)|Syllabus (Links)|\n",
    "|:---|---|---|---|\n",
    "|5370|Advanced Data Analysis in Transportation Systems | CORE Need Currilog entry (Shankar) online capable | \n",
    "|5371|Advanced Geometric Design of Highways | CORE| \n",
    "|5372|Advanced Traffic Engineering I: Highway Capacity Analysis |CORE | \n",
    "|5373|Advanced Traffic Engineering II: Traffic Flow Theory and Control| | \n",
    "|5374|Transportation Planning Fundamentals |Need Currilog entry (Shankar) online capable CORE| \n",
    "|5375| | | \n",
    "|5376| | | \n",
    "|5377| | | \n",
    "|5378| | | \n",
    "|5379| | | \n",
    "|5380| | | "
   ]
  },
  {
   "cell_type": "markdown",
   "metadata": {},
   "source": [
    "## Environmental Engineering  \n",
    "- Explore move all to ENVE (does this need entire faculty vote?)\n",
    "\n",
    "|Course Number|Course Title|Remarks (ToDo)|Syllabus (Links)|\n",
    "|:---|---|---|---|\n",
    "|5325|Environmental Organic Chemistry| uploaded proposal | uploaded syllabus |\n",
    "|5380| | | \n",
    "|5381| | | \n",
    "|5382| | | \n",
    "|5383|Bioremediation of Wastes in Soil Systems| | \n",
    "|5384| | | \n",
    "|5385|Micro Applications in Environmental Engineering | | \n",
    "|5385| | | \n",
    "|5386| | | \n",
    "|5387| | | \n",
    "|5388| | | \n",
    "|5389| | | \n",
    "|5390|Advanced Mathematics for Environmental Engineers |uploaded proposal | uploaded syllabus |\n",
    "|5391|Advanced Water Treatment | | \n",
    "|5392| | | \n",
    "|5393|Unit Processes Laboratory | | \n",
    "|5394|Natural Systems for Wastewater Treatment | | \n",
    "|5395|Solid and Hazardous Waste Treatment | | \n",
    "|5396| | | \n",
    "|5397| | | \n",
    "|5398| | | \n",
    "|5399| | | "
   ]
  },
  {
   "cell_type": "code",
   "execution_count": null,
   "metadata": {},
   "outputs": [],
   "source": []
  },
  {
   "cell_type": "markdown",
   "metadata": {},
   "source": [
    "## PhD-level Coursework (does not exist yet)\n",
    "\n",
    "|Course Number|Course Title|Remarks (ToDo)|Syllabus (Links)|\n",
    "|:---|---|---|---|\n",
    "|6000|Master's Thesis | | \n",
    "|6330|Master's Report | | \n",
    "| | | |\n",
    "|6331| Advanced Special Studies/Topics| needs rigor and advanced content, curriclog entry, needs subtitle ability| "
   ]
  },
  {
   "cell_type": "markdown",
   "metadata": {},
   "source": [
    "## PhD-level Research and Dissertation\n",
    "\n",
    "|Course Number|Course Title|Remarks (ToDo)|Syllabus (Links)|\n",
    "|:---|---|---|---|\n",
    "|7000|Research | | \n",
    "|8000|Doctor's Dissertation | | "
   ]
  },
  {
   "cell_type": "code",
   "execution_count": null,
   "metadata": {},
   "outputs": [],
   "source": []
  }
 ],
 "metadata": {
  "kernelspec": {
   "display_name": "Python 38",
   "language": "python",
   "name": "python38"
  },
  "language_info": {
   "codemirror_mode": {
    "name": "ipython",
    "version": 3
   },
   "file_extension": ".py",
   "mimetype": "text/x-python",
   "name": "python",
   "nbconvert_exporter": "python",
   "pygments_lexer": "ipython3",
   "version": "3.8.3"
  }
 },
 "nbformat": 4,
 "nbformat_minor": 4
}
